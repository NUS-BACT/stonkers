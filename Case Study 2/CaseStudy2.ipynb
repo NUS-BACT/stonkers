{
  "cells": [
    {
      "cell_type": "code",
      "execution_count": null,
      "metadata": {
        "id": "mS9Bi9DIg-jS"
      },
      "outputs": [],
      "source": [
        "import pandas as pd\n",
        "import numpy as np\n",
        "\n",
        "from sklearn.model_selection import train_test_split, cross_validate\n",
        "from sklearn.linear_model import LinearRegression\n",
        "from sklearn.metrics import r2_score, mean_squared_error, mean_absolute_error\n",
        "import statsmodels.api as sm\n",
        "\n",
        "import matplotlib.pyplot as plt"
      ]
    },
    {
      "cell_type": "markdown",
      "metadata": {
        "id": "X4rcnaIchE_9"
      },
      "source": [
        "# Importing Data"
      ]
    },
    {
      "cell_type": "code",
      "execution_count": null,
      "metadata": {
        "colab": {
          "base_uri": "https://localhost:8080/",
          "height": 206
        },
        "id": "VjajrOqchCzM",
        "outputId": "e5929688-0001-43f8-87e9-cc958b79c62c"
      },
      "outputs": [
        {
          "data": {
            "text/html": [
              "\n",
              "  <div id=\"df-919846e8-d800-49b3-82b3-1b0f911fcfb1\">\n",
              "    <div class=\"colab-df-container\">\n",
              "      <div>\n",
              "<style scoped>\n",
              "    .dataframe tbody tr th:only-of-type {\n",
              "        vertical-align: middle;\n",
              "    }\n",
              "\n",
              "    .dataframe tbody tr th {\n",
              "        vertical-align: top;\n",
              "    }\n",
              "\n",
              "    .dataframe thead th {\n",
              "        text-align: right;\n",
              "    }\n",
              "</style>\n",
              "<table border=\"1\" class=\"dataframe\">\n",
              "  <thead>\n",
              "    <tr style=\"text-align: right;\">\n",
              "      <th></th>\n",
              "      <th>month</th>\n",
              "      <th>town</th>\n",
              "      <th>flat_type</th>\n",
              "      <th>block</th>\n",
              "      <th>street_name</th>\n",
              "      <th>storey_range</th>\n",
              "      <th>floor_area_sqm</th>\n",
              "      <th>flat_model</th>\n",
              "      <th>lease_commence_date</th>\n",
              "      <th>remaining_lease</th>\n",
              "      <th>resale_price</th>\n",
              "    </tr>\n",
              "  </thead>\n",
              "  <tbody>\n",
              "    <tr>\n",
              "      <th>0</th>\n",
              "      <td>2017-01</td>\n",
              "      <td>ANG MO KIO</td>\n",
              "      <td>2 ROOM</td>\n",
              "      <td>406</td>\n",
              "      <td>ANG MO KIO AVE 10</td>\n",
              "      <td>10 TO 12</td>\n",
              "      <td>44.0</td>\n",
              "      <td>Improved</td>\n",
              "      <td>1979</td>\n",
              "      <td>61 years 04 months</td>\n",
              "      <td>232000.0</td>\n",
              "    </tr>\n",
              "    <tr>\n",
              "      <th>1</th>\n",
              "      <td>2017-01</td>\n",
              "      <td>ANG MO KIO</td>\n",
              "      <td>3 ROOM</td>\n",
              "      <td>108</td>\n",
              "      <td>ANG MO KIO AVE 4</td>\n",
              "      <td>01 TO 03</td>\n",
              "      <td>67.0</td>\n",
              "      <td>New Generation</td>\n",
              "      <td>1978</td>\n",
              "      <td>60 years 07 months</td>\n",
              "      <td>250000.0</td>\n",
              "    </tr>\n",
              "    <tr>\n",
              "      <th>2</th>\n",
              "      <td>2017-01</td>\n",
              "      <td>ANG MO KIO</td>\n",
              "      <td>3 ROOM</td>\n",
              "      <td>602</td>\n",
              "      <td>ANG MO KIO AVE 5</td>\n",
              "      <td>01 TO 03</td>\n",
              "      <td>67.0</td>\n",
              "      <td>New Generation</td>\n",
              "      <td>1980</td>\n",
              "      <td>62 years 05 months</td>\n",
              "      <td>262000.0</td>\n",
              "    </tr>\n",
              "    <tr>\n",
              "      <th>3</th>\n",
              "      <td>2017-01</td>\n",
              "      <td>ANG MO KIO</td>\n",
              "      <td>3 ROOM</td>\n",
              "      <td>465</td>\n",
              "      <td>ANG MO KIO AVE 10</td>\n",
              "      <td>04 TO 06</td>\n",
              "      <td>68.0</td>\n",
              "      <td>New Generation</td>\n",
              "      <td>1980</td>\n",
              "      <td>62 years 01 month</td>\n",
              "      <td>265000.0</td>\n",
              "    </tr>\n",
              "    <tr>\n",
              "      <th>4</th>\n",
              "      <td>2017-01</td>\n",
              "      <td>ANG MO KIO</td>\n",
              "      <td>3 ROOM</td>\n",
              "      <td>601</td>\n",
              "      <td>ANG MO KIO AVE 5</td>\n",
              "      <td>01 TO 03</td>\n",
              "      <td>67.0</td>\n",
              "      <td>New Generation</td>\n",
              "      <td>1980</td>\n",
              "      <td>62 years 05 months</td>\n",
              "      <td>265000.0</td>\n",
              "    </tr>\n",
              "  </tbody>\n",
              "</table>\n",
              "</div>\n",
              "      <button class=\"colab-df-convert\" onclick=\"convertToInteractive('df-919846e8-d800-49b3-82b3-1b0f911fcfb1')\"\n",
              "              title=\"Convert this dataframe to an interactive table.\"\n",
              "              style=\"display:none;\">\n",
              "        \n",
              "  <svg xmlns=\"http://www.w3.org/2000/svg\" height=\"24px\"viewBox=\"0 0 24 24\"\n",
              "       width=\"24px\">\n",
              "    <path d=\"M0 0h24v24H0V0z\" fill=\"none\"/>\n",
              "    <path d=\"M18.56 5.44l.94 2.06.94-2.06 2.06-.94-2.06-.94-.94-2.06-.94 2.06-2.06.94zm-11 1L8.5 8.5l.94-2.06 2.06-.94-2.06-.94L8.5 2.5l-.94 2.06-2.06.94zm10 10l.94 2.06.94-2.06 2.06-.94-2.06-.94-.94-2.06-.94 2.06-2.06.94z\"/><path d=\"M17.41 7.96l-1.37-1.37c-.4-.4-.92-.59-1.43-.59-.52 0-1.04.2-1.43.59L10.3 9.45l-7.72 7.72c-.78.78-.78 2.05 0 2.83L4 21.41c.39.39.9.59 1.41.59.51 0 1.02-.2 1.41-.59l7.78-7.78 2.81-2.81c.8-.78.8-2.07 0-2.86zM5.41 20L4 18.59l7.72-7.72 1.47 1.35L5.41 20z\"/>\n",
              "  </svg>\n",
              "      </button>\n",
              "      \n",
              "  <style>\n",
              "    .colab-df-container {\n",
              "      display:flex;\n",
              "      flex-wrap:wrap;\n",
              "      gap: 12px;\n",
              "    }\n",
              "\n",
              "    .colab-df-convert {\n",
              "      background-color: #E8F0FE;\n",
              "      border: none;\n",
              "      border-radius: 50%;\n",
              "      cursor: pointer;\n",
              "      display: none;\n",
              "      fill: #1967D2;\n",
              "      height: 32px;\n",
              "      padding: 0 0 0 0;\n",
              "      width: 32px;\n",
              "    }\n",
              "\n",
              "    .colab-df-convert:hover {\n",
              "      background-color: #E2EBFA;\n",
              "      box-shadow: 0px 1px 2px rgba(60, 64, 67, 0.3), 0px 1px 3px 1px rgba(60, 64, 67, 0.15);\n",
              "      fill: #174EA6;\n",
              "    }\n",
              "\n",
              "    [theme=dark] .colab-df-convert {\n",
              "      background-color: #3B4455;\n",
              "      fill: #D2E3FC;\n",
              "    }\n",
              "\n",
              "    [theme=dark] .colab-df-convert:hover {\n",
              "      background-color: #434B5C;\n",
              "      box-shadow: 0px 1px 3px 1px rgba(0, 0, 0, 0.15);\n",
              "      filter: drop-shadow(0px 1px 2px rgba(0, 0, 0, 0.3));\n",
              "      fill: #FFFFFF;\n",
              "    }\n",
              "  </style>\n",
              "\n",
              "      <script>\n",
              "        const buttonEl =\n",
              "          document.querySelector('#df-919846e8-d800-49b3-82b3-1b0f911fcfb1 button.colab-df-convert');\n",
              "        buttonEl.style.display =\n",
              "          google.colab.kernel.accessAllowed ? 'block' : 'none';\n",
              "\n",
              "        async function convertToInteractive(key) {\n",
              "          const element = document.querySelector('#df-919846e8-d800-49b3-82b3-1b0f911fcfb1');\n",
              "          const dataTable =\n",
              "            await google.colab.kernel.invokeFunction('convertToInteractive',\n",
              "                                                     [key], {});\n",
              "          if (!dataTable) return;\n",
              "\n",
              "          const docLinkHtml = 'Like what you see? Visit the ' +\n",
              "            '<a target=\"_blank\" href=https://colab.research.google.com/notebooks/data_table.ipynb>data table notebook</a>'\n",
              "            + ' to learn more about interactive tables.';\n",
              "          element.innerHTML = '';\n",
              "          dataTable['output_type'] = 'display_data';\n",
              "          await google.colab.output.renderOutput(dataTable, element);\n",
              "          const docLink = document.createElement('div');\n",
              "          docLink.innerHTML = docLinkHtml;\n",
              "          element.appendChild(docLink);\n",
              "        }\n",
              "      </script>\n",
              "    </div>\n",
              "  </div>\n",
              "  "
            ],
            "text/plain": [
              "     month        town flat_type block        street_name storey_range  \\\n",
              "0  2017-01  ANG MO KIO    2 ROOM   406  ANG MO KIO AVE 10     10 TO 12   \n",
              "1  2017-01  ANG MO KIO    3 ROOM   108   ANG MO KIO AVE 4     01 TO 03   \n",
              "2  2017-01  ANG MO KIO    3 ROOM   602   ANG MO KIO AVE 5     01 TO 03   \n",
              "3  2017-01  ANG MO KIO    3 ROOM   465  ANG MO KIO AVE 10     04 TO 06   \n",
              "4  2017-01  ANG MO KIO    3 ROOM   601   ANG MO KIO AVE 5     01 TO 03   \n",
              "\n",
              "   floor_area_sqm      flat_model  lease_commence_date     remaining_lease  \\\n",
              "0            44.0        Improved                 1979  61 years 04 months   \n",
              "1            67.0  New Generation                 1978  60 years 07 months   \n",
              "2            67.0  New Generation                 1980  62 years 05 months   \n",
              "3            68.0  New Generation                 1980   62 years 01 month   \n",
              "4            67.0  New Generation                 1980  62 years 05 months   \n",
              "\n",
              "   resale_price  \n",
              "0      232000.0  \n",
              "1      250000.0  \n",
              "2      262000.0  \n",
              "3      265000.0  \n",
              "4      265000.0  "
            ]
          },
          "execution_count": 7,
          "metadata": {},
          "output_type": "execute_result"
        }
      ],
      "source": [
        "df = pd.read_csv(\"https://raw.githubusercontent.com/NUS-BACT/datasets/master/hdb-resale-flat-prices.csv\")\n",
        "\n",
        "df.head()"
      ]
    },
    {
      "cell_type": "markdown",
      "metadata": {
        "id": "uPPMr9p4hpxM"
      },
      "source": [
        "# EDA"
      ]
    },
    {
      "cell_type": "markdown",
      "metadata": {
        "id": "hW0E5LV7meBb"
      },
      "source": [
        "## Distribution of Town"
      ]
    },
    {
      "cell_type": "code",
      "execution_count": null,
      "metadata": {
        "colab": {
          "base_uri": "https://localhost:8080/",
          "height": 557
        },
        "id": "Mr_fM6cemff6",
        "outputId": "b4632c35-b405-44be-8a6a-7bd691cebdbb"
      },
      "outputs": [
        {
          "data": {
            "image/png": "[encoded data removed]",
            "text/plain": [
              "<Figure size 1080x504 with 1 Axes>"
            ]
          },
          "metadata": {},
          "output_type": "display_data"
        }
      ],
      "source": [
        "town_labels = sorted(df[\"town\"].unique().tolist())\n",
        "town_count = []\n",
        "town_price = []\n",
        "\n",
        "for town in town_labels:\n",
        "  cond = (df[\"town\"] == town)\n",
        "  town_count.append(len(df[cond]))\n",
        "  town_price.append(sum(df[cond]['resale_price']) / df[cond].shape[0])\n",
        "\n",
        "plt.figure(figsize = (15, 7))\n",
        "plt.xticks(rotation = 90)\n",
        "plt.bar(town_labels, town_price, color = \"steelblue\")\n",
        "plt.title(\"Distribution of the average resale price for each town\", fontsize = 16) \n",
        "plt.xlabel(\"Town\", fontsize = 12)\n",
        "plt.ylabel(\"Average Resale Price\", fontsize = 12)\n",
        "plt.show()"
      ]
    },
    {
      "cell_type": "markdown",
      "metadata": {
        "id": "yhtpzrmFmtx9"
      },
      "source": [
        "## Distribution of Flat Types"
      ]
    },
    {
      "cell_type": "code",
      "execution_count": null,
      "metadata": {
        "colab": {
          "base_uri": "https://localhost:8080/",
          "height": 463
        },
        "id": "C0LuLVOfmv__",
        "outputId": "e8347347-5d6f-4678-e688-5965eee9fa9f"
      },
      "outputs": [
        {
          "data": {
            "image/png": "[encoded data removed]",
            "text/plain": [
              "<Figure size 1080x504 with 1 Axes>"
            ]
          },
          "metadata": {},
          "output_type": "display_data"
        }
      ],
      "source": [
        "flat_type_labels = sorted(df[\"flat_type\"].unique().tolist())\n",
        "flat_type_count = []\n",
        "flat_type_price = []\n",
        "\n",
        "for type in flat_type_labels:\n",
        "  cond = (df[\"flat_type\"] == type)\n",
        "  flat_type_count.append(len(df[cond]))\n",
        "  flat_type_price.append(sum(df[cond]['resale_price']) / df[cond].shape[0])\n",
        "\n",
        "plt.figure(figsize = (15, 7))\n",
        "plt.bar(flat_type_labels, flat_type_price, color = \"steelblue\")\n",
        "plt.title(\"Distribution of the average resale price for type of flat\", fontsize = 16) \n",
        "plt.xlabel(\"Flat Type\", fontsize = 12)\n",
        "plt.ylabel(\"Average Resale Price\", fontsize = 12)\n",
        "plt.show()"
      ]
    },
    {
      "cell_type": "markdown",
      "metadata": {
        "id": "yqA7pXpsi_WL"
      },
      "source": [
        "## Remaining Lease vs Price of Resale Flat"
      ]
    },
    {
      "cell_type": "code",
      "execution_count": null,
      "metadata": {
        "id": "5UU3FgUpjETs"
      },
      "outputs": [],
      "source": [
        "df['remaining_lease_years'] = df['remaining_lease'].str.slice(0,2).astype('float')\n",
        "df['remaining_lease_months']= df['remaining_lease'].str.slice(9,11)\n",
        "\n",
        "for x in range(df.shape[0]):\n",
        "    i = df.loc[x, 'remaining_lease_months']\n",
        "    try:\n",
        "        df['remaining_lease_months'] = float(i)\n",
        "    except:\n",
        "        df['remaining_lease_months'] = float(0)\n",
        "\n",
        "df['remaining_lease_total'] = df['remaining_lease_years'] + (df['remaining_lease_months'] / 12)"
      ]
    },
    {
      "cell_type": "code",
      "execution_count": null,
      "metadata": {
        "colab": {
          "base_uri": "https://localhost:8080/",
          "height": 463
        },
        "id": "ckm9xiJmrd9T",
        "outputId": "6499d738-1b52-4e16-80da-06cfdec42ebc"
      },
      "outputs": [
        {
          "data": {
            "image/png": "[encoded data removed]",
            "text/plain": [
              "<Figure size 1080x504 with 1 Axes>"
            ]
          },
          "metadata": {},
          "output_type": "display_data"
        }
      ],
      "source": [
        "remaining_lease_labels = sorted(df[\"remaining_lease_total\"].unique().tolist())\n",
        "remaining_lease_price = []\n",
        "\n",
        "for month in remaining_lease_labels:\n",
        "  cond = (df[\"remaining_lease_total\"] == month)\n",
        "  remaining_lease_price.append(sum(df[cond]['resale_price']) / df[cond].shape[0])\n",
        "\n",
        "plt.figure(figsize = (15, 7))\n",
        "plt.bar(remaining_lease_labels, remaining_lease_price, color = \"steelblue\")\n",
        "plt.title(\"Distribution of the average resale price vs Remaining Lease in Months\", fontsize = 16) \n",
        "plt.xlabel(\"Remaining Lease in Months\", fontsize = 12)\n",
        "plt.ylabel(\"Average Resale Price\", fontsize = 12)\n",
        "plt.show()"
      ]
    },
    {
      "cell_type": "markdown",
      "metadata": {
        "id": "RkygtBUinF9P"
      },
      "source": [
        "## Distribution of Flat Model"
      ]
    },
    {
      "cell_type": "code",
      "execution_count": null,
      "metadata": {
        "colab": {
          "base_uri": "https://localhost:8080/",
          "height": 572
        },
        "id": "yVi02JMGnIRG",
        "outputId": "14b47f06-a6d9-468d-b693-8122aa068af9"
      },
      "outputs": [
        {
          "data": {
            "image/png": "[encoded data removed]",
            "text/plain": [
              "<Figure size 1080x504 with 1 Axes>"
            ]
          },
          "metadata": {},
          "output_type": "display_data"
        }
      ],
      "source": [
        "flat_model_labels = sorted(df[\"flat_model\"].unique().tolist())\n",
        "flat_model_count = []\n",
        "\n",
        "for model in flat_model_labels:\n",
        "  cond = (df[\"flat_model\"] == model)\n",
        "  flat_model_count.append(len(df[cond]))\n",
        "  flat_type_price.append(sum(df[cond]['resale_price']) / df[cond].shape[0])\n",
        "\n",
        "plt.figure(figsize = (15, 7))\n",
        "plt.xticks(rotation = 70)\n",
        "plt.bar(flat_model_labels, flat_model_count, color = \"steelblue\")\n",
        "plt.title(\"Distribution of the average resale price for each flat model\", fontsize = 16) \n",
        "plt.xlabel(\"Flat Model\", fontsize = 12)\n",
        "plt.ylabel(\"Average Resale Price\", fontsize = 12)\n",
        "plt.show()"
      ]
    },
    {
      "cell_type": "markdown",
      "metadata": {
        "id": "8kNqjlDZdqYv"
      },
      "source": [
        "# Methodology"
      ]
    },
    {
      "cell_type": "markdown",
      "metadata": {
        "id": "ezSwyfCkd06X"
      },
      "source": [
        "### Data Preprocessing"
      ]
    },
    {
      "cell_type": "code",
      "execution_count": null,
      "metadata": {
        "id": "GSAEaTE5d5NN"
      },
      "outputs": [],
      "source": [
        "# Converting categorical variables to numerical variables\n",
        "\n",
        "monthdict = {}\n",
        "\n",
        "for i, month in enumerate(df.month.unique()):\n",
        "    monthdict[month] = i\n",
        "\n",
        "for row in range(len(df)):\n",
        "    value = df.loc[row, 'month']\n",
        "\n",
        "    for key in monthdict.keys():\n",
        "        if value == key:\n",
        "            df.loc[row, 'month'] = monthdict[key]"
      ]
    },
    {
      "cell_type": "code",
      "execution_count": null,
      "metadata": {
        "id": "nbvISJmbljVV"
      },
      "outputs": [],
      "source": [
        "towndict = {}\n",
        "\n",
        "for i, town in enumerate(df.town.unique()):\n",
        "    towndict[town] = i\n",
        "\n",
        "for row in range(len(df)):\n",
        "    value = df.loc[row, 'town']\n",
        "\n",
        "    for key in towndict.keys():\n",
        "        if value == key:\n",
        "            df.loc[row, 'town'] = towndict[key]"
      ]
    },
    {
      "cell_type": "code",
      "execution_count": null,
      "metadata": {
        "colab": {
          "background_save": true
        },
        "id": "4RfK7FwhluTe"
      },
      "outputs": [],
      "source": [
        "flat_type_dict = {}\n",
        "\n",
        "for i, flat_type in enumerate(df.flat_type.unique()):\n",
        "    flat_type_dict[flat_type] = i\n",
        "\n",
        "for row in range(len(df)):\n",
        "    value = df.loc[row, 'flat_type']\n",
        "\n",
        "    for key in flat_type_dict.keys():\n",
        "        if value == key:\n",
        "            df.loc[row, 'flat_type'] = flat_type_dict[key]"
      ]
    },
    {
      "cell_type": "code",
      "execution_count": null,
      "metadata": {
        "colab": {
          "background_save": true
        },
        "id": "lmCpKQmVl4N8"
      },
      "outputs": [],
      "source": [
        "storeydict = {}\n",
        "\n",
        "df = df.sort_values('storey_range', ascending = True)\n",
        "\n",
        "for i, storey in enumerate(df.storey_range.unique()):\n",
        "    storeydict[storey] = i\n",
        "\n",
        "for row in range(len(df)):\n",
        "    value = df.loc[row, 'storey_range']\n",
        "\n",
        "    for key in storeydict.keys():\n",
        "        if value == key:\n",
        "            df.loc[row, 'storey_range'] = storeydict[key]"
      ]
    },
    {
      "cell_type": "code",
      "execution_count": null,
      "metadata": {
        "id": "Z6gDuBUvmSM2"
      },
      "outputs": [],
      "source": [
        "flatmodeldict = {}\n",
        "\n",
        "for i, flat_model in enumerate(df.flat_model.unique()):\n",
        "    flatmodeldict[flat_model] = i\n",
        "\n",
        "for row in range(len(df)):\n",
        "    value = df.loc[row, 'flat_model']\n",
        "\n",
        "    for key in flatmodeldict.keys():\n",
        "        if value == key:\n",
        "            df.loc[row, 'flat_model'] = flatmodeldict[key]"
      ]
    },
    {
      "cell_type": "code",
      "execution_count": null,
      "metadata": {
        "colab": {
          "background_save": true
        },
        "id": "FKovmGxUrTZf",
        "outputId": "a98da5f0-efc5-43e7-8388-3a067b2b71e9"
      },
      "outputs": [
        {
          "ename": "KeyError",
          "evalue": "ignored",
          "output_type": "error",
          "traceback": [
            "\u001b[0;31m---------------------------------------------------------------------------\u001b[0m",
            "\u001b[0;31mKeyError\u001b[0m                                  Traceback (most recent call last)",
            "\u001b[0;32m<ipython-input-9-e7d2500a4ef4>\u001b[0m in \u001b[0;36m<module>\u001b[0;34m\u001b[0m\n\u001b[1;32m      1\u001b[0m \u001b[0;31m# Dropping irrelevant columns\u001b[0m\u001b[0;34m\u001b[0m\u001b[0;34m\u001b[0m\u001b[0;34m\u001b[0m\u001b[0m\n\u001b[0;32m----> 2\u001b[0;31m \u001b[0mdf\u001b[0m\u001b[0;34m.\u001b[0m\u001b[0mdrop\u001b[0m\u001b[0;34m(\u001b[0m\u001b[0mcolumns\u001b[0m \u001b[0;34m=\u001b[0m \u001b[0;34m[\u001b[0m\u001b[0;34m'remaining_lease_years'\u001b[0m\u001b[0;34m,\u001b[0m \u001b[0;34m'remaining_lease_months'\u001b[0m\u001b[0;34m,\u001b[0m \u001b[0;34m'street_name'\u001b[0m\u001b[0;34m,\u001b[0m \u001b[0;34m'block'\u001b[0m\u001b[0;34m]\u001b[0m\u001b[0;34m,\u001b[0m \u001b[0minplace\u001b[0m \u001b[0;34m=\u001b[0m \u001b[0;32mTrue\u001b[0m\u001b[0;34m)\u001b[0m\u001b[0;34m\u001b[0m\u001b[0;34m\u001b[0m\u001b[0m\n\u001b[0m",
            "\u001b[0;32m/usr/local/lib/python3.7/dist-packages/pandas/util/_decorators.py\u001b[0m in \u001b[0;36mwrapper\u001b[0;34m(*args, **kwargs)\u001b[0m\n\u001b[1;32m    309\u001b[0m                     \u001b[0mstacklevel\u001b[0m\u001b[0;34m=\u001b[0m\u001b[0mstacklevel\u001b[0m\u001b[0;34m,\u001b[0m\u001b[0;34m\u001b[0m\u001b[0;34m\u001b[0m\u001b[0m\n\u001b[1;32m    310\u001b[0m                 )\n\u001b[0;32m--> 311\u001b[0;31m             \u001b[0;32mreturn\u001b[0m \u001b[0mfunc\u001b[0m\u001b[0;34m(\u001b[0m\u001b[0;34m*\u001b[0m\u001b[0margs\u001b[0m\u001b[0;34m,\u001b[0m \u001b[0;34m**\u001b[0m\u001b[0mkwargs\u001b[0m\u001b[0;34m)\u001b[0m\u001b[0;34m\u001b[0m\u001b[0;34m\u001b[0m\u001b[0m\n\u001b[0m\u001b[1;32m    312\u001b[0m \u001b[0;34m\u001b[0m\u001b[0m\n\u001b[1;32m    313\u001b[0m         \u001b[0;32mreturn\u001b[0m \u001b[0mwrapper\u001b[0m\u001b[0;34m\u001b[0m\u001b[0;34m\u001b[0m\u001b[0m\n",
            "\u001b[0;32m/usr/local/lib/python3.7/dist-packages/pandas/core/frame.py\u001b[0m in \u001b[0;36mdrop\u001b[0;34m(self, labels, axis, index, columns, level, inplace, errors)\u001b[0m\n\u001b[1;32m   4911\u001b[0m             \u001b[0mlevel\u001b[0m\u001b[0;34m=\u001b[0m\u001b[0mlevel\u001b[0m\u001b[0;34m,\u001b[0m\u001b[0;34m\u001b[0m\u001b[0;34m\u001b[0m\u001b[0m\n\u001b[1;32m   4912\u001b[0m             \u001b[0minplace\u001b[0m\u001b[0;34m=\u001b[0m\u001b[0minplace\u001b[0m\u001b[0;34m,\u001b[0m\u001b[0;34m\u001b[0m\u001b[0;34m\u001b[0m\u001b[0m\n\u001b[0;32m-> 4913\u001b[0;31m             \u001b[0merrors\u001b[0m\u001b[0;34m=\u001b[0m\u001b[0merrors\u001b[0m\u001b[0;34m,\u001b[0m\u001b[0;34m\u001b[0m\u001b[0;34m\u001b[0m\u001b[0m\n\u001b[0m\u001b[1;32m   4914\u001b[0m         )\n\u001b[1;32m   4915\u001b[0m \u001b[0;34m\u001b[0m\u001b[0m\n",
            "\u001b[0;32m/usr/local/lib/python3.7/dist-packages/pandas/core/generic.py\u001b[0m in \u001b[0;36mdrop\u001b[0;34m(self, labels, axis, index, columns, level, inplace, errors)\u001b[0m\n\u001b[1;32m   4148\u001b[0m         \u001b[0;32mfor\u001b[0m \u001b[0maxis\u001b[0m\u001b[0;34m,\u001b[0m \u001b[0mlabels\u001b[0m \u001b[0;32min\u001b[0m \u001b[0maxes\u001b[0m\u001b[0;34m.\u001b[0m\u001b[0mitems\u001b[0m\u001b[0;34m(\u001b[0m\u001b[0;34m)\u001b[0m\u001b[0;34m:\u001b[0m\u001b[0;34m\u001b[0m\u001b[0;34m\u001b[0m\u001b[0m\n\u001b[1;32m   4149\u001b[0m             \u001b[0;32mif\u001b[0m \u001b[0mlabels\u001b[0m \u001b[0;32mis\u001b[0m \u001b[0;32mnot\u001b[0m \u001b[0;32mNone\u001b[0m\u001b[0;34m:\u001b[0m\u001b[0;34m\u001b[0m\u001b[0;34m\u001b[0m\u001b[0m\n\u001b[0;32m-> 4150\u001b[0;31m                 \u001b[0mobj\u001b[0m \u001b[0;34m=\u001b[0m \u001b[0mobj\u001b[0m\u001b[0;34m.\u001b[0m\u001b[0m_drop_axis\u001b[0m\u001b[0;34m(\u001b[0m\u001b[0mlabels\u001b[0m\u001b[0;34m,\u001b[0m \u001b[0maxis\u001b[0m\u001b[0;34m,\u001b[0m \u001b[0mlevel\u001b[0m\u001b[0;34m=\u001b[0m\u001b[0mlevel\u001b[0m\u001b[0;34m,\u001b[0m \u001b[0merrors\u001b[0m\u001b[0;34m=\u001b[0m\u001b[0merrors\u001b[0m\u001b[0;34m)\u001b[0m\u001b[0;34m\u001b[0m\u001b[0;34m\u001b[0m\u001b[0m\n\u001b[0m\u001b[1;32m   4151\u001b[0m \u001b[0;34m\u001b[0m\u001b[0m\n\u001b[1;32m   4152\u001b[0m         \u001b[0;32mif\u001b[0m \u001b[0minplace\u001b[0m\u001b[0;34m:\u001b[0m\u001b[0;34m\u001b[0m\u001b[0;34m\u001b[0m\u001b[0m\n",
            "\u001b[0;32m/usr/local/lib/python3.7/dist-packages/pandas/core/generic.py\u001b[0m in \u001b[0;36m_drop_axis\u001b[0;34m(self, labels, axis, level, errors)\u001b[0m\n\u001b[1;32m   4183\u001b[0m                 \u001b[0mnew_axis\u001b[0m \u001b[0;34m=\u001b[0m \u001b[0maxis\u001b[0m\u001b[0;34m.\u001b[0m\u001b[0mdrop\u001b[0m\u001b[0;34m(\u001b[0m\u001b[0mlabels\u001b[0m\u001b[0;34m,\u001b[0m \u001b[0mlevel\u001b[0m\u001b[0;34m=\u001b[0m\u001b[0mlevel\u001b[0m\u001b[0;34m,\u001b[0m \u001b[0merrors\u001b[0m\u001b[0;34m=\u001b[0m\u001b[0merrors\u001b[0m\u001b[0;34m)\u001b[0m\u001b[0;34m\u001b[0m\u001b[0;34m\u001b[0m\u001b[0m\n\u001b[1;32m   4184\u001b[0m             \u001b[0;32melse\u001b[0m\u001b[0;34m:\u001b[0m\u001b[0;34m\u001b[0m\u001b[0;34m\u001b[0m\u001b[0m\n\u001b[0;32m-> 4185\u001b[0;31m                 \u001b[0mnew_axis\u001b[0m \u001b[0;34m=\u001b[0m \u001b[0maxis\u001b[0m\u001b[0;34m.\u001b[0m\u001b[0mdrop\u001b[0m\u001b[0;34m(\u001b[0m\u001b[0mlabels\u001b[0m\u001b[0;34m,\u001b[0m \u001b[0merrors\u001b[0m\u001b[0;34m=\u001b[0m\u001b[0merrors\u001b[0m\u001b[0;34m)\u001b[0m\u001b[0;34m\u001b[0m\u001b[0;34m\u001b[0m\u001b[0m\n\u001b[0m\u001b[1;32m   4186\u001b[0m             \u001b[0mresult\u001b[0m \u001b[0;34m=\u001b[0m \u001b[0mself\u001b[0m\u001b[0;34m.\u001b[0m\u001b[0mreindex\u001b[0m\u001b[0;34m(\u001b[0m\u001b[0;34m**\u001b[0m\u001b[0;34m{\u001b[0m\u001b[0maxis_name\u001b[0m\u001b[0;34m:\u001b[0m \u001b[0mnew_axis\u001b[0m\u001b[0;34m}\u001b[0m\u001b[0;34m)\u001b[0m\u001b[0;34m\u001b[0m\u001b[0;34m\u001b[0m\u001b[0m\n\u001b[1;32m   4187\u001b[0m \u001b[0;34m\u001b[0m\u001b[0m\n",
            "\u001b[0;32m/usr/local/lib/python3.7/dist-packages/pandas/core/indexes/base.py\u001b[0m in \u001b[0;36mdrop\u001b[0;34m(self, labels, errors)\u001b[0m\n\u001b[1;32m   6015\u001b[0m         \u001b[0;32mif\u001b[0m \u001b[0mmask\u001b[0m\u001b[0;34m.\u001b[0m\u001b[0many\u001b[0m\u001b[0;34m(\u001b[0m\u001b[0;34m)\u001b[0m\u001b[0;34m:\u001b[0m\u001b[0;34m\u001b[0m\u001b[0;34m\u001b[0m\u001b[0m\n\u001b[1;32m   6016\u001b[0m             \u001b[0;32mif\u001b[0m \u001b[0merrors\u001b[0m \u001b[0;34m!=\u001b[0m \u001b[0;34m\"ignore\"\u001b[0m\u001b[0;34m:\u001b[0m\u001b[0;34m\u001b[0m\u001b[0;34m\u001b[0m\u001b[0m\n\u001b[0;32m-> 6017\u001b[0;31m                 \u001b[0;32mraise\u001b[0m \u001b[0mKeyError\u001b[0m\u001b[0;34m(\u001b[0m\u001b[0;34mf\"{labels[mask]} not found in axis\"\u001b[0m\u001b[0;34m)\u001b[0m\u001b[0;34m\u001b[0m\u001b[0;34m\u001b[0m\u001b[0m\n\u001b[0m\u001b[1;32m   6018\u001b[0m             \u001b[0mindexer\u001b[0m \u001b[0;34m=\u001b[0m \u001b[0mindexer\u001b[0m\u001b[0;34m[\u001b[0m\u001b[0;34m~\u001b[0m\u001b[0mmask\u001b[0m\u001b[0;34m]\u001b[0m\u001b[0;34m\u001b[0m\u001b[0;34m\u001b[0m\u001b[0m\n\u001b[1;32m   6019\u001b[0m         \u001b[0;32mreturn\u001b[0m \u001b[0mself\u001b[0m\u001b[0;34m.\u001b[0m\u001b[0mdelete\u001b[0m\u001b[0;34m(\u001b[0m\u001b[0mindexer\u001b[0m\u001b[0;34m)\u001b[0m\u001b[0;34m\u001b[0m\u001b[0;34m\u001b[0m\u001b[0m\n",
            "\u001b[0;31mKeyError\u001b[0m: \"['remaining_lease_years' 'remaining_lease_months'] not found in axis\""
          ]
        }
      ],
      "source": [
        "# Dropping irrelevant columns\n",
        "df.drop(columns = ['remaining_lease_years', 'remaining_lease_months', 'street_name', 'block'], inplace = True)"
      ]
    },
    {
      "cell_type": "code",
      "execution_count": null,
      "metadata": {
        "id": "JdMBxoLsrcUG"
      },
      "outputs": [],
      "source": [
        "# One-hot encoding or getting dummies\n",
        "df = pd.get_dummies(df, columns = ['month', 'town', 'flat_type', 'storey_range', 'flat_model'], drop_first = True) # drop_first to prevent multicolinearity \n"
      ]
    },
    {
      "cell_type": "markdown",
      "metadata": {
        "id": "dy6-LfjWs7dC"
      },
      "source": [
        "## Train-Test Split"
      ]
    },
    {
      "cell_type": "code",
      "execution_count": null,
      "metadata": {
        "id": "JmQVEl2jtKDo"
      },
      "outputs": [],
      "source": [
        "X = df.drop(columns = 'resale_price')\n",
        "y = df['resale_price']\n",
        "\n",
        "X_train, X_test, y_train, y_test = train_test_split(X, y, test_size = 0.2, \n",
        "                                                    random_state = 42)"
      ]
    },
    {
      "cell_type": "markdown",
      "metadata": {
        "id": "IYFyIPpzuDCc"
      },
      "source": [
        "## Model Training"
      ]
    },
    {
      "cell_type": "code",
      "execution_count": null,
      "metadata": {
        "colab": {
          "base_uri": "https://localhost:8080/"
        },
        "id": "Yy4ZztFouFRA",
        "outputId": "3aa24f08-fe11-49df-d3f9-a6fd7b9a0bb8"
      },
      "outputs": [
        {
          "data": {
            "text/plain": [
              "LinearRegression()"
            ]
          },
          "execution_count": 22,
          "metadata": {},
          "output_type": "execute_result"
        }
      ],
      "source": [
        "lr = LinearRegression()\n",
        "\n",
        "lr.fit(X_train, y_train)"
      ]
    },
    {
      "cell_type": "markdown",
      "metadata": {
        "id": "QHDletIFvVVL"
      },
      "source": [
        "## Cross Validation"
      ]
    },
    {
      "cell_type": "code",
      "execution_count": null,
      "metadata": {
        "id": "izqPQjnDvYf1"
      },
      "outputs": [],
      "source": [
        "def get_CV_results(model, X, y, cv=10):\n",
        "    scores = cross_validate(model, X, y, cv=cv, return_train_score=True)\n",
        "    print(f\"Mean Test Score: {scores['test_score'].mean()}\")\n",
        "    print(\"\\n\")\n",
        "\n",
        "    display(pd.DataFrame(scores)) "
      ]
    },
    {
      "cell_type": "code",
      "execution_count": null,
      "metadata": {
        "colab": {
          "base_uri": "https://localhost:8080/",
          "height": 415
        },
        "id": "GtlqfHmevbzH",
        "outputId": "a5476f6b-391b-4ad4-ba8c-991e5b78f8b5"
      },
      "outputs": [
        {
          "name": "stdout",
          "output_type": "stream",
          "text": [
            "Mean Test Score: 0.8773002564978138\n",
            "\n",
            "\n"
          ]
        },
        {
          "data": {
            "text/html": [
              "\n",
              "  <div id=\"df-3ecb3365-b1a9-4876-991d-6177c0a3c37a\">\n",
              "    <div class=\"colab-df-container\">\n",
              "      <div>\n",
              "<style scoped>\n",
              "    .dataframe tbody tr th:only-of-type {\n",
              "        vertical-align: middle;\n",
              "    }\n",
              "\n",
              "    .dataframe tbody tr th {\n",
              "        vertical-align: top;\n",
              "    }\n",
              "\n",
              "    .dataframe thead th {\n",
              "        text-align: right;\n",
              "    }\n",
              "</style>\n",
              "<table border=\"1\" class=\"dataframe\">\n",
              "  <thead>\n",
              "    <tr style=\"text-align: right;\">\n",
              "      <th></th>\n",
              "      <th>fit_time</th>\n",
              "      <th>score_time</th>\n",
              "      <th>test_score</th>\n",
              "      <th>train_score</th>\n",
              "    </tr>\n",
              "  </thead>\n",
              "  <tbody>\n",
              "    <tr>\n",
              "      <th>0</th>\n",
              "      <td>1.737279</td>\n",
              "      <td>0.009823</td>\n",
              "      <td>0.879149</td>\n",
              "      <td>0.877502</td>\n",
              "    </tr>\n",
              "    <tr>\n",
              "      <th>1</th>\n",
              "      <td>1.811095</td>\n",
              "      <td>0.009970</td>\n",
              "      <td>0.875185</td>\n",
              "      <td>0.877952</td>\n",
              "    </tr>\n",
              "    <tr>\n",
              "      <th>2</th>\n",
              "      <td>1.753141</td>\n",
              "      <td>0.009805</td>\n",
              "      <td>0.875310</td>\n",
              "      <td>0.877940</td>\n",
              "    </tr>\n",
              "    <tr>\n",
              "      <th>3</th>\n",
              "      <td>1.801023</td>\n",
              "      <td>0.009761</td>\n",
              "      <td>0.880289</td>\n",
              "      <td>0.877386</td>\n",
              "    </tr>\n",
              "    <tr>\n",
              "      <th>4</th>\n",
              "      <td>1.808269</td>\n",
              "      <td>0.010763</td>\n",
              "      <td>0.877235</td>\n",
              "      <td>0.877733</td>\n",
              "    </tr>\n",
              "    <tr>\n",
              "      <th>5</th>\n",
              "      <td>1.814395</td>\n",
              "      <td>0.009751</td>\n",
              "      <td>0.877414</td>\n",
              "      <td>0.877700</td>\n",
              "    </tr>\n",
              "    <tr>\n",
              "      <th>6</th>\n",
              "      <td>1.771307</td>\n",
              "      <td>0.010314</td>\n",
              "      <td>0.873886</td>\n",
              "      <td>0.878078</td>\n",
              "    </tr>\n",
              "    <tr>\n",
              "      <th>7</th>\n",
              "      <td>1.732010</td>\n",
              "      <td>0.009704</td>\n",
              "      <td>0.877313</td>\n",
              "      <td>0.877720</td>\n",
              "    </tr>\n",
              "    <tr>\n",
              "      <th>8</th>\n",
              "      <td>1.708934</td>\n",
              "      <td>0.009582</td>\n",
              "      <td>0.880112</td>\n",
              "      <td>0.877413</td>\n",
              "    </tr>\n",
              "    <tr>\n",
              "      <th>9</th>\n",
              "      <td>1.712744</td>\n",
              "      <td>0.009967</td>\n",
              "      <td>0.877109</td>\n",
              "      <td>0.877748</td>\n",
              "    </tr>\n",
              "  </tbody>\n",
              "</table>\n",
              "</div>\n",
              "      <button class=\"colab-df-convert\" onclick=\"convertToInteractive('df-3ecb3365-b1a9-4876-991d-6177c0a3c37a')\"\n",
              "              title=\"Convert this dataframe to an interactive table.\"\n",
              "              style=\"display:none;\">\n",
              "        \n",
              "  <svg xmlns=\"http://www.w3.org/2000/svg\" height=\"24px\"viewBox=\"0 0 24 24\"\n",
              "       width=\"24px\">\n",
              "    <path d=\"M0 0h24v24H0V0z\" fill=\"none\"/>\n",
              "    <path d=\"M18.56 5.44l.94 2.06.94-2.06 2.06-.94-2.06-.94-.94-2.06-.94 2.06-2.06.94zm-11 1L8.5 8.5l.94-2.06 2.06-.94-2.06-.94L8.5 2.5l-.94 2.06-2.06.94zm10 10l.94 2.06.94-2.06 2.06-.94-2.06-.94-.94-2.06-.94 2.06-2.06.94z\"/><path d=\"M17.41 7.96l-1.37-1.37c-.4-.4-.92-.59-1.43-.59-.52 0-1.04.2-1.43.59L10.3 9.45l-7.72 7.72c-.78.78-.78 2.05 0 2.83L4 21.41c.39.39.9.59 1.41.59.51 0 1.02-.2 1.41-.59l7.78-7.78 2.81-2.81c.8-.78.8-2.07 0-2.86zM5.41 20L4 18.59l7.72-7.72 1.47 1.35L5.41 20z\"/>\n",
              "  </svg>\n",
              "      </button>\n",
              "      \n",
              "  <style>\n",
              "    .colab-df-container {\n",
              "      display:flex;\n",
              "      flex-wrap:wrap;\n",
              "      gap: 12px;\n",
              "    }\n",
              "\n",
              "    .colab-df-convert {\n",
              "      background-color: #E8F0FE;\n",
              "      border: none;\n",
              "      border-radius: 50%;\n",
              "      cursor: pointer;\n",
              "      display: none;\n",
              "      fill: #1967D2;\n",
              "      height: 32px;\n",
              "      padding: 0 0 0 0;\n",
              "      width: 32px;\n",
              "    }\n",
              "\n",
              "    .colab-df-convert:hover {\n",
              "      background-color: #E2EBFA;\n",
              "      box-shadow: 0px 1px 2px rgba(60, 64, 67, 0.3), 0px 1px 3px 1px rgba(60, 64, 67, 0.15);\n",
              "      fill: #174EA6;\n",
              "    }\n",
              "\n",
              "    [theme=dark] .colab-df-convert {\n",
              "      background-color: #3B4455;\n",
              "      fill: #D2E3FC;\n",
              "    }\n",
              "\n",
              "    [theme=dark] .colab-df-convert:hover {\n",
              "      background-color: #434B5C;\n",
              "      box-shadow: 0px 1px 3px 1px rgba(0, 0, 0, 0.15);\n",
              "      filter: drop-shadow(0px 1px 2px rgba(0, 0, 0, 0.3));\n",
              "      fill: #FFFFFF;\n",
              "    }\n",
              "  </style>\n",
              "\n",
              "      <script>\n",
              "        const buttonEl =\n",
              "          document.querySelector('#df-3ecb3365-b1a9-4876-991d-6177c0a3c37a button.colab-df-convert');\n",
              "        buttonEl.style.display =\n",
              "          google.colab.kernel.accessAllowed ? 'block' : 'none';\n",
              "\n",
              "        async function convertToInteractive(key) {\n",
              "          const element = document.querySelector('#df-3ecb3365-b1a9-4876-991d-6177c0a3c37a');\n",
              "          const dataTable =\n",
              "            await google.colab.kernel.invokeFunction('convertToInteractive',\n",
              "                                                     [key], {});\n",
              "          if (!dataTable) return;\n",
              "\n",
              "          const docLinkHtml = 'Like what you see? Visit the ' +\n",
              "            '<a target=\"_blank\" href=https://colab.research.google.com/notebooks/data_table.ipynb>data table notebook</a>'\n",
              "            + ' to learn more about interactive tables.';\n",
              "          element.innerHTML = '';\n",
              "          dataTable['output_type'] = 'display_data';\n",
              "          await google.colab.output.renderOutput(dataTable, element);\n",
              "          const docLink = document.createElement('div');\n",
              "          docLink.innerHTML = docLinkHtml;\n",
              "          element.appendChild(docLink);\n",
              "        }\n",
              "      </script>\n",
              "    </div>\n",
              "  </div>\n",
              "  "
            ],
            "text/plain": [
              "   fit_time  score_time  test_score  train_score\n",
              "0  1.737279    0.009823    0.879149     0.877502\n",
              "1  1.811095    0.009970    0.875185     0.877952\n",
              "2  1.753141    0.009805    0.875310     0.877940\n",
              "3  1.801023    0.009761    0.880289     0.877386\n",
              "4  1.808269    0.010763    0.877235     0.877733\n",
              "5  1.814395    0.009751    0.877414     0.877700\n",
              "6  1.771307    0.010314    0.873886     0.878078\n",
              "7  1.732010    0.009704    0.877313     0.877720\n",
              "8  1.708934    0.009582    0.880112     0.877413\n",
              "9  1.712744    0.009967    0.877109     0.877748"
            ]
          },
          "metadata": {},
          "output_type": "display_data"
        }
      ],
      "source": [
        "get_CV_results(lr, X_train, y_train)"
      ]
    },
    {
      "cell_type": "markdown",
      "metadata": {
        "id": "spJp-UaIwz9U"
      },
      "source": [
        "## Test Set Results"
      ]
    },
    {
      "cell_type": "code",
      "execution_count": null,
      "metadata": {
        "id": "xMX_y4tXw2yh"
      },
      "outputs": [],
      "source": [
        "def get_results(model, X, y):\n",
        "    y_pred = model.predict(X)\n",
        "    r2 = r2_score(y, y_pred)\n",
        "    mse = mean_squared_error(y, y_pred)\n",
        "    mae = mean_absolute_error(y, y_pred)\n",
        "\n",
        "    print(f\"R2: {r2}\")\n",
        "    print(f\"RMSE: {mse**0.5}\")"
      ]
    },
    {
      "cell_type": "code",
      "execution_count": null,
      "metadata": {
        "colab": {
          "base_uri": "https://localhost:8080/"
        },
        "id": "dQsPiyLhxFIG",
        "outputId": "f7c72736-6168-42dc-e24c-5010bd2d7f9b"
      },
      "outputs": [
        {
          "name": "stdout",
          "output_type": "stream",
          "text": [
            "R2: 0.8779692368634991\n",
            "RMSE: 56617.5011023135\n"
          ]
        }
      ],
      "source": [
        "get_results(lr, X_test, y_test)"
      ]
    },
    {
      "cell_type": "code",
      "execution_count": null,
      "metadata": {
        "colab": {
          "base_uri": "https://localhost:8080/"
        },
        "id": "MhbXr0yWFJdW",
        "outputId": "b04748d9-cdc3-44cd-cb05-e66232a86f9c"
      },
      "outputs": [
        {
          "data": {
            "text/plain": [
              "0.04430164405501839"
            ]
          },
          "execution_count": 29,
          "metadata": {},
          "output_type": "execute_result"
        }
      ],
      "source": [
        "RMSE = 56617.5011023135\n",
        "mean = df['resale_price'].mean()\n",
        "normalised_RMSE = RMSE/mean\n",
        "normalised_RMSE"
      ]
    },
    {
      "cell_type": "markdown",
      "metadata": {
        "id": "a2Fl-wkBxMZV"
      },
      "source": [
        "## Model Interpretation"
      ]
    },
    {
      "cell_type": "code",
      "execution_count": null,
      "metadata": {
        "colab": {
          "base_uri": "https://localhost:8080/"
        },
        "id": "8v46BhuOxTAn",
        "outputId": "e1287242-548f-4ceb-f7f5-870bbf798e7b"
      },
      "outputs": [
        {
          "name": "stderr",
          "output_type": "stream",
          "text": [
            "/usr/local/lib/python3.7/dist-packages/statsmodels/tsa/tsatools.py:142: FutureWarning: In a future version of pandas all arguments of concat except for the argument 'objs' will be keyword-only\n",
            "  x = pd.concat(x[::order], 1)\n"
          ]
        },
        {
          "name": "stdout",
          "output_type": "stream",
          "text": [
            "                            OLS Regression Results                            \n",
            "==============================================================================\n",
            "Dep. Variable:           resale_price   R-squared:                       0.878\n",
            "Model:                            OLS   Adj. R-squared:                  0.878\n",
            "Method:                 Least Squares   F-statistic:                     5633.\n",
            "Date:                Wed, 28 Sep 2022   Prob (F-statistic):               0.00\n",
            "Time:                        09:35:39   Log-Likelihood:            -1.3420e+06\n",
            "No. Observations:              108454   AIC:                         2.684e+06\n",
            "Df Residuals:                  108315   BIC:                         2.686e+06\n",
            "Df Model:                         138                                         \n",
            "Covariance Type:            nonrobust                                         \n",
            "==========================================================================================\n",
            "                             coef    std err          t      P>|t|      [0.025      0.975]\n",
            "------------------------------------------------------------------------------------------\n",
            "floor_area_sqm          3760.6407     32.713    114.960      0.000    3696.525    3824.757\n",
            "lease_commence_date     3813.0857    629.329      6.059      0.000    2579.610    5046.561\n",
            "remaining_lease          631.2677    886.147      0.712      0.476   -1105.568    2368.104\n",
            "remaining_lease_years   7.951e+04   1.25e+04      6.339      0.000    5.49e+04    1.04e+05\n",
            "remaining_lease_months -1.902e+06   3.01e+05     -6.325      0.000   -2.49e+06   -1.31e+06\n",
            "remaining_lease_total  -7.898e+04   1.25e+04     -6.307      0.000   -1.04e+05   -5.44e+04\n",
            "month_1                -3374.0697   2666.272     -1.265      0.206   -8599.925    1851.785\n",
            "month_2                  353.4719   2368.831      0.149      0.881   -4289.403    4996.347\n",
            "month_3                -1548.0135   2387.188     -0.648      0.517   -6226.868    3130.841\n",
            "month_4                 -726.8696   2349.564     -0.309      0.757   -5331.982    3878.242\n",
            "month_5                -3630.1404   2412.563     -1.505      0.132   -8358.729    1098.448\n",
            "month_6                -3319.9278   2418.847     -1.373      0.170   -8060.833    1420.977\n",
            "month_7                -6295.1472   2382.319     -2.642      0.008    -1.1e+04   -1625.836\n",
            "month_8                -6617.1586   2465.182     -2.684      0.007   -1.14e+04   -1785.437\n",
            "month_9                -7006.6770   2429.402     -2.884      0.004   -1.18e+04   -2245.083\n",
            "month_10               -4459.0382   2404.033     -1.855      0.064   -9170.909     252.833\n",
            "month_11               -9417.9099   2513.274     -3.747      0.000   -1.43e+04   -4491.929\n",
            "month_12               -6611.9301   2755.991     -2.399      0.016    -1.2e+04   -1210.227\n",
            "month_13               -1.025e+04   2709.740     -3.782      0.000   -1.56e+04   -4937.761\n",
            "month_14               -9850.9929   2476.868     -3.977      0.000   -1.47e+04   -4996.368\n",
            "month_15               -1.223e+04   2505.127     -4.882      0.000   -1.71e+04   -7320.663\n",
            "month_16               -9505.6927   2534.583     -3.750      0.000   -1.45e+04   -4537.947\n",
            "month_17               -9381.4470   2503.823     -3.747      0.000   -1.43e+04   -4473.990\n",
            "month_18                 -1.3e+04   2429.500     -5.351      0.000   -1.78e+04   -8239.593\n",
            "month_19               -8879.6107   2529.390     -3.511      0.000   -1.38e+04   -3922.042\n",
            "month_20               -1.161e+04   2562.727     -4.532      0.000   -1.66e+04   -6591.455\n",
            "month_21               -1.061e+04   2577.696     -4.115      0.000   -1.57e+04   -5556.080\n",
            "month_22               -1.119e+04   2624.750     -4.262      0.000   -1.63e+04   -6041.351\n",
            "month_23               -1.018e+04   2775.866     -3.667      0.000   -1.56e+04   -4737.580\n",
            "month_24               -1.179e+04   2769.268     -4.257      0.000   -1.72e+04   -6361.509\n",
            "month_25               -1.133e+04   2868.632     -3.951      0.000    -1.7e+04   -5712.031\n",
            "month_26               -1.156e+04   2795.321     -4.135      0.000    -1.7e+04   -6078.916\n",
            "month_27               -1.455e+04   2752.151     -5.286      0.000   -1.99e+04   -9154.971\n",
            "month_28               -1.468e+04   2737.258     -5.364      0.000      -2e+04   -9318.861\n",
            "month_29                -1.19e+04   2804.721     -4.242      0.000   -1.74e+04   -6399.676\n",
            "month_30               -1.156e+04   2788.148     -4.146      0.000    -1.7e+04   -6095.350\n",
            "month_31               -1.441e+04   2865.294     -5.030      0.000      -2e+04   -8795.413\n",
            "month_32               -1.467e+04   2917.370     -5.030      0.000   -2.04e+04   -8955.837\n",
            "month_33               -1.436e+04   2868.134     -5.007      0.000      -2e+04   -8740.469\n",
            "month_34                -1.19e+04   2955.670     -4.026      0.000   -1.77e+04   -6107.448\n",
            "month_35               -1.038e+04   3005.368     -3.452      0.001   -1.63e+04   -4484.660\n",
            "month_36               -1.473e+04   3021.782     -4.874      0.000   -2.06e+04   -8804.044\n",
            "month_37                -1.13e+04   3103.237     -3.643      0.000   -1.74e+04   -5221.393\n",
            "month_38               -1.498e+04   3090.083     -4.848      0.000    -2.1e+04   -8923.404\n",
            "month_39               -1.402e+04   4120.272     -3.403      0.001   -2.21e+04   -5946.972\n",
            "month_40               -1.532e+04   4309.656     -3.554      0.000   -2.38e+04   -6871.121\n",
            "month_41               -1.394e+04   3065.298     -4.548      0.000   -1.99e+04   -7933.291\n",
            "month_42               -1.296e+04   3141.119     -4.126      0.000   -1.91e+04   -6802.404\n",
            "month_43               -9110.6913   3186.946     -2.859      0.004   -1.54e+04   -2864.323\n",
            "month_44               -2915.7538   3211.530     -0.908      0.364   -9210.307    3378.799\n",
            "month_45                1493.3988   3254.822      0.459      0.646   -4886.006    7872.803\n",
            "month_46                5042.5477   3297.155      1.529      0.126   -1419.829    1.15e+04\n",
            "month_47                1.006e+04   3317.810      3.031      0.002    3552.478    1.66e+04\n",
            "month_48                1.433e+04   3346.697      4.281      0.000    7766.611    2.09e+04\n",
            "month_49                2.034e+04   3428.442      5.934      0.000    1.36e+04    2.71e+04\n",
            "month_50                 2.27e+04   3450.436      6.578      0.000    1.59e+04    2.95e+04\n",
            "month_51                2.735e+04   3492.246      7.833      0.000    2.05e+04    3.42e+04\n",
            "month_52                3.198e+04   3570.194      8.957      0.000     2.5e+04     3.9e+04\n",
            "month_53                3.738e+04   3561.633     10.494      0.000    3.04e+04    4.44e+04\n",
            "month_54                4.167e+04   3565.553     11.688      0.000    3.47e+04    4.87e+04\n",
            "month_55                4.935e+04   3607.056     13.682      0.000    4.23e+04    5.64e+04\n",
            "month_56                5.225e+04   3666.042     14.251      0.000    4.51e+04    5.94e+04\n",
            "month_57                5.564e+04   3708.112     15.006      0.000    4.84e+04    6.29e+04\n",
            "month_58                 6.17e+04   3749.286     16.455      0.000    5.43e+04     6.9e+04\n",
            "month_59                6.736e+04   3799.010     17.730      0.000    5.99e+04    7.48e+04\n",
            "month_60                7.004e+04   3848.570     18.199      0.000    6.25e+04    7.76e+04\n",
            "month_61                7.401e+04   3957.698     18.700      0.000    6.62e+04    8.18e+04\n",
            "month_62                7.517e+04   3950.608     19.028      0.000    6.74e+04    8.29e+04\n",
            "month_63                 8.35e+04   3996.229     20.895      0.000    7.57e+04    9.13e+04\n",
            "month_64                8.595e+04   4048.283     21.232      0.000     7.8e+04    9.39e+04\n",
            "month_65                9.473e+04   4086.183     23.182      0.000    8.67e+04    1.03e+05\n",
            "month_66                9.767e+04   4107.270     23.780      0.000    8.96e+04    1.06e+05\n",
            "month_67                9.641e+04   4149.901     23.231      0.000    8.83e+04    1.05e+05\n",
            "month_68                1.039e+05   4430.289     23.457      0.000    9.52e+04    1.13e+05\n",
            "town_1                 -1.181e+04   1149.336    -10.272      0.000   -1.41e+04   -9552.776\n",
            "town_2                  9.766e+04   1580.966     61.770      0.000    9.46e+04    1.01e+05\n",
            "town_3                 -8.002e+04   1317.901    -60.716      0.000   -8.26e+04   -7.74e+04\n",
            "town_4                  1.095e+05   1297.852     84.344      0.000    1.07e+05    1.12e+05\n",
            "town_5                 -1.283e+05   1327.185    -96.636      0.000   -1.31e+05   -1.26e+05\n",
            "town_6                  2.007e+05   3524.966     56.928      0.000    1.94e+05    2.08e+05\n",
            "town_7                  1.103e+05   2605.818     42.329      0.000    1.05e+05    1.15e+05\n",
            "town_8                 -1.667e+05   1276.908   -130.550      0.000   -1.69e+05   -1.64e+05\n",
            "town_9                  3.341e+04   1434.486     23.294      0.000    3.06e+04    3.62e+04\n",
            "town_10                 4.442e+04   1471.951     30.174      0.000    4.15e+04    4.73e+04\n",
            "town_11                -7.814e+04   1219.779    -64.060      0.000   -8.05e+04   -7.57e+04\n",
            "town_12                -7.238e+04   1487.601    -48.654      0.000   -7.53e+04   -6.95e+04\n",
            "town_13                -1.292e+05   1171.555   -110.307      0.000   -1.32e+05   -1.27e+05\n",
            "town_14                 6.018e+04   1387.905     43.358      0.000    5.75e+04    6.29e+04\n",
            "town_15                 1.498e+05   2429.350     61.674      0.000    1.45e+05    1.55e+05\n",
            "town_16                -9.714e+04   1404.988    -69.136      0.000   -9.99e+04   -9.44e+04\n",
            "town_17                -1.247e+05   1248.776    -99.831      0.000   -1.27e+05   -1.22e+05\n",
            "town_18                 1.185e+05   1449.333     81.738      0.000    1.16e+05    1.21e+05\n",
            "town_19                -1.797e+05   1524.679   -117.888      0.000   -1.83e+05   -1.77e+05\n",
            "town_20                -1.411e+05   1185.601   -119.002      0.000   -1.43e+05   -1.39e+05\n",
            "town_21                 4964.8090   1567.951      3.166      0.002    1891.647    8037.971\n",
            "town_22                -4.338e+04   1170.517    -37.060      0.000   -4.57e+04   -4.11e+04\n",
            "town_23                  5.27e+04   1375.957     38.304      0.000       5e+04    5.54e+04\n",
            "town_24                -1.582e+05   1173.435   -134.780      0.000    -1.6e+05   -1.56e+05\n",
            "town_25                -1.115e+05   1150.132    -96.960      0.000   -1.14e+05   -1.09e+05\n",
            "flat_type_1             2.233e+04   1650.105     13.533      0.000    1.91e+04    2.56e+04\n",
            "flat_type_2             3.962e+04   2134.718     18.561      0.000    3.54e+04    4.38e+04\n",
            "flat_type_3             6.328e+04   2880.029     21.971      0.000    5.76e+04    6.89e+04\n",
            "flat_type_4             5.978e+04   3758.548     15.904      0.000    5.24e+04    6.71e+04\n",
            "flat_type_5            -2.533e+04   8833.922     -2.867      0.004   -4.26e+04   -8016.868\n",
            "flat_type_6             1.013e+05   4364.388     23.204      0.000    9.27e+04     1.1e+05\n",
            "storey_range_1          1.678e+04    551.003     30.458      0.000    1.57e+04    1.79e+04\n",
            "storey_range_2          3.042e+04    564.516     53.884      0.000    2.93e+04    3.15e+04\n",
            "storey_range_3          3.845e+04    579.496     66.345      0.000    3.73e+04    3.96e+04\n",
            "storey_range_4           4.83e+04    718.405     67.231      0.000    4.69e+04    4.97e+04\n",
            "storey_range_5          6.546e+04    946.237     69.178      0.000    6.36e+04    6.73e+04\n",
            "storey_range_6          9.516e+04   1363.227     69.807      0.000    9.25e+04    9.78e+04\n",
            "storey_range_7          1.009e+05   1568.004     64.345      0.000    9.78e+04    1.04e+05\n",
            "storey_range_8          1.204e+05   2038.741     59.069      0.000    1.16e+05    1.24e+05\n",
            "storey_range_9          1.419e+05   2522.363     56.275      0.000    1.37e+05    1.47e+05\n",
            "storey_range_10         1.418e+05   3331.824     42.552      0.000    1.35e+05    1.48e+05\n",
            "storey_range_11         1.588e+05   3516.146     45.170      0.000    1.52e+05    1.66e+05\n",
            "storey_range_12          1.66e+05   3617.040     45.883      0.000    1.59e+05    1.73e+05\n",
            "storey_range_13         1.938e+05   5129.114     37.784      0.000    1.84e+05    2.04e+05\n",
            "storey_range_14         1.968e+05   1.01e+04     19.477      0.000    1.77e+05    2.17e+05\n",
            "storey_range_15         1.788e+05   1.42e+04     12.585      0.000    1.51e+05    2.07e+05\n",
            "storey_range_16         2.098e+05    2.2e+04      9.543      0.000    1.67e+05    2.53e+05\n",
            "flat_model_1             2.35e+04    810.360     29.002      0.000    2.19e+04    2.51e+04\n",
            "flat_model_2            3942.0555    782.075      5.041      0.000    2409.199    5474.912\n",
            "flat_model_3            2.487e+04   1117.610     22.256      0.000    2.27e+04    2.71e+04\n",
            "flat_model_4            9491.7562   1206.068      7.870      0.000    7127.879    1.19e+04\n",
            "flat_model_5             6.77e+04   4125.237     16.411      0.000    5.96e+04    7.58e+04\n",
            "flat_model_6            4.925e+04   2208.605     22.297      0.000    4.49e+04    5.36e+04\n",
            "flat_model_7            1.743e+04    816.955     21.333      0.000    1.58e+04     1.9e+04\n",
            "flat_model_8            1.309e+05   1469.133     89.069      0.000    1.28e+05    1.34e+05\n",
            "flat_model_9            8.705e+04   2273.413     38.289      0.000    8.26e+04    9.15e+04\n",
            "flat_model_10           1.834e+05   1.39e+04     13.158      0.000    1.56e+05    2.11e+05\n",
            "flat_model_11           8871.1692   1770.541      5.010      0.000    5400.933    1.23e+04\n",
            "flat_model_12           3.655e+05   7247.269     50.435      0.000    3.51e+05     3.8e+05\n",
            "flat_model_13           1.197e+05   4280.139     27.976      0.000    1.11e+05    1.28e+05\n",
            "flat_model_14           1.013e+05   4364.388     23.204      0.000    9.27e+04     1.1e+05\n",
            "flat_model_15           -1.17e+04   1.16e+04     -1.011      0.312   -3.44e+04     1.1e+04\n",
            "flat_model_16           2.354e+05   6140.808     38.342      0.000    2.23e+05    2.47e+05\n",
            "flat_model_17           1.231e+05   6891.244     17.869      0.000     1.1e+05    1.37e+05\n",
            "flat_model_18            1.95e+05   5013.678     38.890      0.000    1.85e+05    2.05e+05\n",
            "flat_model_19            5.26e+04   3.31e+04      1.590      0.112   -1.22e+04    1.17e+05\n",
            "flat_model_20           7.149e+04   1.67e+04      4.281      0.000    3.88e+04    1.04e+05\n",
            "==============================================================================\n",
            "Omnibus:                     7667.715   Durbin-Watson:                   1.998\n",
            "Prob(Omnibus):                  0.000   Jarque-Bera (JB):            12019.157\n",
            "Skew:                           0.567   Prob(JB):                         0.00\n",
            "Kurtosis:                       4.171   Cond. No.                     5.03e+16\n",
            "==============================================================================\n",
            "\n",
            "Notes:\n",
            "[1] Standard Errors assume that the covariance matrix of the errors is correctly specified.\n",
            "[2] The smallest eigenvalue is 1.72e-22. This might indicate that there are\n",
            "strong multicollinearity problems or that the design matrix is singular.\n"
          ]
        }
      ],
      "source": [
        "ols = sm.OLS(y_train, sm.add_constant(X_train))\n",
        "\n",
        "ols_res = ols.fit()\n",
        "\n",
        "print(ols_res.summary())"
      ]
    }
  ],
  "metadata": {
    "colab": {
      "collapsed_sections": [],
      "provenance": []
    },
    "kernelspec": {
      "display_name": "Python 3",
      "name": "python3"
    },
    "language_info": {
      "name": "python"
    }
  },
  "nbformat": 4,
  "nbformat_minor": 0
}