{
  "cells": [
    {
      "cell_type": "code",
      "execution_count": null,
      "id": "68980324",
      "metadata": {
        "id": "68980324"
      },
      "outputs": [],
      "source": [
        "import pandas as pd\n",
        "from IPython.display import display\n",
        "import numpy as np\n",
        "import seaborn as sns\n",
        "import matplotlib.pyplot as plt\n",
        "\n",
        "from sklearn.preprocessing import OneHotEncoder, StandardScaler\n",
        "from sklearn.compose import ColumnTransformer\n",
        "from sklearn.model_selection import train_test_split, cross_validate, GridSearchCV\n",
        "from sklearn.pipeline import Pipeline\n",
        "from sklearn.metrics import classification_report, confusion_matrix\n",
        "from sklearn import tree\n",
        "from sklearn.decomposition import PCA\n",
        "\n",
        "from sklearn.linear_model import LogisticRegression\n",
        "from sklearn.tree import DecisionTreeClassifier\n",
        "from sklearn.ensemble import RandomForestClassifier"
      ]
    },
    {
      "cell_type": "markdown",
      "id": "c91501bf",
      "metadata": {
        "id": "c91501bf"
      },
      "source": [
        "<h1>Exploratory Data Analysis</h1>"
      ]
    },
    {
      "cell_type": "code",
      "execution_count": null,
      "id": "5750e23d",
      "metadata": {
        "colab": {
          "base_uri": "https://localhost:8080/",
          "height": 206
        },
        "id": "5750e23d",
        "outputId": "a49e25b0-0d38-45ca-8650-144bbe37f07e"
      },
      "outputs": [
        {
          "output_type": "execute_result",
          "data": {
            "text/plain": [
              "   Age  Sex  Chest pain type   BP  Cholesterol  FBS over 120  EKG results  \\\n",
              "0   70    1                4  130          322             0            2   \n",
              "1   67    0                3  115          564             0            2   \n",
              "2   57    1                2  124          261             0            0   \n",
              "3   64    1                4  128          263             0            0   \n",
              "4   74    0                2  120          269             0            2   \n",
              "\n",
              "   Max HR  Exercise angina  ST depression  Slope of ST  \\\n",
              "0     109                0            2.4            2   \n",
              "1     160                0            1.6            2   \n",
              "2     141                0            0.3            1   \n",
              "3     105                1            0.2            2   \n",
              "4     121                1            0.2            1   \n",
              "\n",
              "   Number of vessels fluro  Thallium Heart Disease  \n",
              "0                        3         3      Presence  \n",
              "1                        0         7       Absence  \n",
              "2                        0         7      Presence  \n",
              "3                        1         7       Absence  \n",
              "4                        1         3       Absence  "
            ],
            "text/html": [
              "\n",
              "  <div id=\"df-91cd382f-29b0-4ccf-9ffb-dba3df2b29ed\">\n",
              "    <div class=\"colab-df-container\">\n",
              "      <div>\n",
              "<style scoped>\n",
              "    .dataframe tbody tr th:only-of-type {\n",
              "        vertical-align: middle;\n",
              "    }\n",
              "\n",
              "    .dataframe tbody tr th {\n",
              "        vertical-align: top;\n",
              "    }\n",
              "\n",
              "    .dataframe thead th {\n",
              "        text-align: right;\n",
              "    }\n",
              "</style>\n",
              "<table border=\"1\" class=\"dataframe\">\n",
              "  <thead>\n",
              "    <tr style=\"text-align: right;\">\n",
              "      <th></th>\n",
              "      <th>Age</th>\n",
              "      <th>Sex</th>\n",
              "      <th>Chest pain type</th>\n",
              "      <th>BP</th>\n",
              "      <th>Cholesterol</th>\n",
              "      <th>FBS over 120</th>\n",
              "      <th>EKG results</th>\n",
              "      <th>Max HR</th>\n",
              "      <th>Exercise angina</th>\n",
              "      <th>ST depression</th>\n",
              "      <th>Slope of ST</th>\n",
              "      <th>Number of vessels fluro</th>\n",
              "      <th>Thallium</th>\n",
              "      <th>Heart Disease</th>\n",
              "    </tr>\n",
              "  </thead>\n",
              "  <tbody>\n",
              "    <tr>\n",
              "      <th>0</th>\n",
              "      <td>70</td>\n",
              "      <td>1</td>\n",
              "      <td>4</td>\n",
              "      <td>130</td>\n",
              "      <td>322</td>\n",
              "      <td>0</td>\n",
              "      <td>2</td>\n",
              "      <td>109</td>\n",
              "      <td>0</td>\n",
              "      <td>2.4</td>\n",
              "      <td>2</td>\n",
              "      <td>3</td>\n",
              "      <td>3</td>\n",
              "      <td>Presence</td>\n",
              "    </tr>\n",
              "    <tr>\n",
              "      <th>1</th>\n",
              "      <td>67</td>\n",
              "      <td>0</td>\n",
              "      <td>3</td>\n",
              "      <td>115</td>\n",
              "      <td>564</td>\n",
              "      <td>0</td>\n",
              "      <td>2</td>\n",
              "      <td>160</td>\n",
              "      <td>0</td>\n",
              "      <td>1.6</td>\n",
              "      <td>2</td>\n",
              "      <td>0</td>\n",
              "      <td>7</td>\n",
              "      <td>Absence</td>\n",
              "    </tr>\n",
              "    <tr>\n",
              "      <th>2</th>\n",
              "      <td>57</td>\n",
              "      <td>1</td>\n",
              "      <td>2</td>\n",
              "      <td>124</td>\n",
              "      <td>261</td>\n",
              "      <td>0</td>\n",
              "      <td>0</td>\n",
              "      <td>141</td>\n",
              "      <td>0</td>\n",
              "      <td>0.3</td>\n",
              "      <td>1</td>\n",
              "      <td>0</td>\n",
              "      <td>7</td>\n",
              "      <td>Presence</td>\n",
              "    </tr>\n",
              "    <tr>\n",
              "      <th>3</th>\n",
              "      <td>64</td>\n",
              "      <td>1</td>\n",
              "      <td>4</td>\n",
              "      <td>128</td>\n",
              "      <td>263</td>\n",
              "      <td>0</td>\n",
              "      <td>0</td>\n",
              "      <td>105</td>\n",
              "      <td>1</td>\n",
              "      <td>0.2</td>\n",
              "      <td>2</td>\n",
              "      <td>1</td>\n",
              "      <td>7</td>\n",
              "      <td>Absence</td>\n",
              "    </tr>\n",
              "    <tr>\n",
              "      <th>4</th>\n",
              "      <td>74</td>\n",
              "      <td>0</td>\n",
              "      <td>2</td>\n",
              "      <td>120</td>\n",
              "      <td>269</td>\n",
              "      <td>0</td>\n",
              "      <td>2</td>\n",
              "      <td>121</td>\n",
              "      <td>1</td>\n",
              "      <td>0.2</td>\n",
              "      <td>1</td>\n",
              "      <td>1</td>\n",
              "      <td>3</td>\n",
              "      <td>Absence</td>\n",
              "    </tr>\n",
              "  </tbody>\n",
              "</table>\n",
              "</div>\n",
              "      <button class=\"colab-df-convert\" onclick=\"convertToInteractive('df-91cd382f-29b0-4ccf-9ffb-dba3df2b29ed')\"\n",
              "              title=\"Convert this dataframe to an interactive table.\"\n",
              "              style=\"display:none;\">\n",
              "        \n",
              "  <svg xmlns=\"http://www.w3.org/2000/svg\" height=\"24px\"viewBox=\"0 0 24 24\"\n",
              "       width=\"24px\">\n",
              "    <path d=\"M0 0h24v24H0V0z\" fill=\"none\"/>\n",
              "    <path d=\"M18.56 5.44l.94 2.06.94-2.06 2.06-.94-2.06-.94-.94-2.06-.94 2.06-2.06.94zm-11 1L8.5 8.5l.94-2.06 2.06-.94-2.06-.94L8.5 2.5l-.94 2.06-2.06.94zm10 10l.94 2.06.94-2.06 2.06-.94-2.06-.94-.94-2.06-.94 2.06-2.06.94z\"/><path d=\"M17.41 7.96l-1.37-1.37c-.4-.4-.92-.59-1.43-.59-.52 0-1.04.2-1.43.59L10.3 9.45l-7.72 7.72c-.78.78-.78 2.05 0 2.83L4 21.41c.39.39.9.59 1.41.59.51 0 1.02-.2 1.41-.59l7.78-7.78 2.81-2.81c.8-.78.8-2.07 0-2.86zM5.41 20L4 18.59l7.72-7.72 1.47 1.35L5.41 20z\"/>\n",
              "  </svg>\n",
              "      </button>\n",
              "      \n",
              "  <style>\n",
              "    .colab-df-container {\n",
              "      display:flex;\n",
              "      flex-wrap:wrap;\n",
              "      gap: 12px;\n",
              "    }\n",
              "\n",
              "    .colab-df-convert {\n",
              "      background-color: #E8F0FE;\n",
              "      border: none;\n",
              "      border-radius: 50%;\n",
              "      cursor: pointer;\n",
              "      display: none;\n",
              "      fill: #1967D2;\n",
              "      height: 32px;\n",
              "      padding: 0 0 0 0;\n",
              "      width: 32px;\n",
              "    }\n",
              "\n",
              "    .colab-df-convert:hover {\n",
              "      background-color: #E2EBFA;\n",
              "      box-shadow: 0px 1px 2px rgba(60, 64, 67, 0.3), 0px 1px 3px 1px rgba(60, 64, 67, 0.15);\n",
              "      fill: #174EA6;\n",
              "    }\n",
              "\n",
              "    [theme=dark] .colab-df-convert {\n",
              "      background-color: #3B4455;\n",
              "      fill: #D2E3FC;\n",
              "    }\n",
              "\n",
              "    [theme=dark] .colab-df-convert:hover {\n",
              "      background-color: #434B5C;\n",
              "      box-shadow: 0px 1px 3px 1px rgba(0, 0, 0, 0.15);\n",
              "      filter: drop-shadow(0px 1px 2px rgba(0, 0, 0, 0.3));\n",
              "      fill: #FFFFFF;\n",
              "    }\n",
              "  </style>\n",
              "\n",
              "      <script>\n",
              "        const buttonEl =\n",
              "          document.querySelector('#df-91cd382f-29b0-4ccf-9ffb-dba3df2b29ed button.colab-df-convert');\n",
              "        buttonEl.style.display =\n",
              "          google.colab.kernel.accessAllowed ? 'block' : 'none';\n",
              "\n",
              "        async function convertToInteractive(key) {\n",
              "          const element = document.querySelector('#df-91cd382f-29b0-4ccf-9ffb-dba3df2b29ed');\n",
              "          const dataTable =\n",
              "            await google.colab.kernel.invokeFunction('convertToInteractive',\n",
              "                                                     [key], {});\n",
              "          if (!dataTable) return;\n",
              "\n",
              "          const docLinkHtml = 'Like what you see? Visit the ' +\n",
              "            '<a target=\"_blank\" href=https://colab.research.google.com/notebooks/data_table.ipynb>data table notebook</a>'\n",
              "            + ' to learn more about interactive tables.';\n",
              "          element.innerHTML = '';\n",
              "          dataTable['output_type'] = 'display_data';\n",
              "          await google.colab.output.renderOutput(dataTable, element);\n",
              "          const docLink = document.createElement('div');\n",
              "          docLink.innerHTML = docLinkHtml;\n",
              "          element.appendChild(docLink);\n",
              "        }\n",
              "      </script>\n",
              "    </div>\n",
              "  </div>\n",
              "  "
            ]
          },
          "metadata": {},
          "execution_count": 3
        }
      ],
      "source": [
        "pop = pd.read_csv(\"https://raw.githubusercontent.com/NUS-BACT/datasets/master/Heart_Disease_Prediction.csv\")\n",
        "\n",
        "pop.head()"
      ]
    },
    {
      "cell_type": "code",
      "execution_count": null,
      "id": "3fc7d181",
      "metadata": {
        "id": "3fc7d181",
        "outputId": "272a8682-b7d2-4fc0-b4b2-68b62d99fa25"
      },
      "outputs": [
        {
          "data": {
            "text/plain": [
              "Age                        0\n",
              "Sex                        0\n",
              "Chest pain type            0\n",
              "BP                         0\n",
              "Cholesterol                0\n",
              "FBS over 120               0\n",
              "EKG results                0\n",
              "Max HR                     0\n",
              "Exercise angina            0\n",
              "ST depression              0\n",
              "Slope of ST                0\n",
              "Number of vessels fluro    0\n",
              "Thallium                   0\n",
              "Heart Disease              0\n",
              "dtype: int64"
            ]
          },
          "execution_count": 3,
          "metadata": {},
          "output_type": "execute_result"
        }
      ],
      "source": [
        "pop.isna().sum()"
      ]
    },
    {
      "cell_type": "code",
      "execution_count": null,
      "id": "d541fedc",
      "metadata": {
        "id": "d541fedc",
        "outputId": "824f4614-82a4-4858-a595-5ab55d4a3019"
      },
      "outputs": [
        {
          "data": {
            "text/plain": [
              "<AxesSubplot:xlabel='Age', ylabel='Count'>"
            ]
          },
          "execution_count": 4,
          "metadata": {},
          "output_type": "execute_result"
        },
        {
          "data": {
            "image/png": "[encoded data removed]",
            "text/plain": [
              "<Figure size 432x288 with 1 Axes>"
            ]
          },
          "metadata": {
            "needs_background": "light"
          },
          "output_type": "display_data"
        }
      ],
      "source": [
        "#Plotting age distribution\n",
        "sns.histplot(data=pop, x=\"Age\")"
      ]
    },
    {
      "cell_type": "code",
      "execution_count": null,
      "id": "a819f020",
      "metadata": {
        "id": "a819f020",
        "outputId": "759d9d5e-8b31-4100-fe10-84b823f1e373"
      },
      "outputs": [
        {
          "data": {
            "text/plain": [
              "<AxesSubplot:xlabel='Sex', ylabel='count'>"
            ]
          },
          "execution_count": 5,
          "metadata": {},
          "output_type": "execute_result"
        },
        {
          "data": {
            "image/png": "[encoded data removed]",
            "text/plain": [
              "<Figure size 432x288 with 1 Axes>"
            ]
          },
          "metadata": {
            "needs_background": "light"
          },
          "output_type": "display_data"
        }
      ],
      "source": [
        "#Plotting sex distribution\n",
        "sns.countplot(data=pop, x=\"Sex\")"
      ]
    },
    {
      "cell_type": "code",
      "execution_count": null,
      "id": "dd7b0eb2",
      "metadata": {
        "id": "dd7b0eb2",
        "outputId": "f48082a3-402a-46d7-ddc2-d4291af5253c"
      },
      "outputs": [
        {
          "data": {
            "text/plain": [
              "<AxesSubplot:xlabel='Heart Disease', ylabel='count'>"
            ]
          },
          "execution_count": 6,
          "metadata": {},
          "output_type": "execute_result"
        },
        {
          "data": {
            "image/png": "[encoded data removed]",
            "text/plain": [
              "<Figure size 1440x1080 with 12 Axes>"
            ]
          },
          "metadata": {
            "needs_background": "light"
          },
          "output_type": "display_data"
        }
      ],
      "source": [
        "fig, axes = plt.subplots(4, 3, sharex=False, figsize=(20,15))\n",
        "plt.subplots_adjust(hspace=0.5)\n",
        "fig.suptitle('Distributions of Health Parameters', fontsize=30)\n",
        "\n",
        "#Chest pain type\n",
        "sns.countplot(ax=axes[0, 0], data=pop, x=\"Chest pain type\")\n",
        "\n",
        "#BP\n",
        "sns.histplot(ax=axes[1, 0], data=pop, x=\"BP\")\n",
        "\n",
        "#Cholesterol\n",
        "sns.histplot(ax=axes[2, 0], data=pop, x=\"Cholesterol\")\n",
        "\n",
        "#FBS over 120 (binary variable) - fasting blood sugar\n",
        "sns.countplot(ax=axes[3, 0], data=pop, x=\"FBS over 120\")\n",
        "\n",
        "#EKG results\n",
        "sns.countplot(ax=axes[0, 1], data=pop, x=\"EKG results\")\n",
        "\n",
        "#Max HR\n",
        "sns.histplot(ax=axes[1, 1], data=pop, x=\"Max HR\")\n",
        "\n",
        "#Exercise angina\n",
        "sns.countplot(ax=axes[2, 1], data=pop, x=\"Exercise angina\")\n",
        "\n",
        "#ST depression\n",
        "sns.histplot(ax=axes[3, 1], data=pop, x=\"ST depression\")\n",
        "\n",
        "#Slope of ST\n",
        "sns.countplot(ax=axes[0, 2], data=pop, x=\"Slope of ST\")\n",
        "\n",
        "#Number of vessels fluro\n",
        "sns.countplot(ax=axes[1, 2], data=pop, x=\"Number of vessels fluro\")\n",
        "\n",
        "#Thallium\n",
        "sns.histplot(ax=axes[2, 2], data=pop, x=\"Thallium\")\n",
        "\n",
        "#Heart disease\n",
        "sns.countplot(ax=axes[3, 2], data=pop, x=\"Heart Disease\")"
      ]
    },
    {
      "cell_type": "markdown",
      "id": "6e4af74b",
      "metadata": {
        "id": "6e4af74b"
      },
      "source": [
        "<h1>Train-Test Split</h1>"
      ]
    },
    {
      "cell_type": "code",
      "execution_count": null,
      "id": "3a949ef9",
      "metadata": {
        "id": "3a949ef9"
      },
      "outputs": [],
      "source": [
        "df = pop.copy()\n",
        "\n",
        "#Set \"Heart Disease\" as the y variable\n",
        "y = df[\"Heart Disease\"]\n",
        "\n",
        "#Set everything other than Heart Disease as the X variables\n",
        "X = df.drop(columns=[\"Heart Disease\"])\n",
        "\n",
        "#Train test split in a 80:20 ratio, with a random state for consistency\n",
        "X_train, X_test, y_train, y_test = train_test_split(X, y, test_size=0.2, random_state=42)\n"
      ]
    },
    {
      "cell_type": "markdown",
      "id": "c1d23cb5",
      "metadata": {
        "id": "c1d23cb5"
      },
      "source": [
        "<h1>Logistic Regression</h1>"
      ]
    },
    {
      "cell_type": "markdown",
      "id": "a1c419cc",
      "metadata": {
        "id": "a1c419cc"
      },
      "source": [
        "<h2>Feature Encoding (One-Hot Encoding)</h2>"
      ]
    },
    {
      "cell_type": "code",
      "execution_count": null,
      "id": "be431c0c",
      "metadata": {
        "scrolled": false,
        "colab": {
          "base_uri": "https://localhost:8080/"
        },
        "id": "be431c0c",
        "outputId": "71921fe8-92d9-43a5-f990-06650bc9a0ca"
      },
      "outputs": [
        {
          "output_type": "stream",
          "name": "stdout",
          "text": [
            "Categorical variables:  []\n"
          ]
        }
      ],
      "source": [
        "#get list of all categorical variables\n",
        "categorical_variables = []\n",
        "\n",
        "for column in X_train.columns:\n",
        "    if df[column].dtype == \"object\":\n",
        "        categorical_variables.append(column)\n",
        "    \n",
        "print(\"Categorical variables: \", categorical_variables) #No categorical dependent variables\n",
        "\n",
        "#One-hot encoding, fitted on the train dataset\n",
        "enc_lr = OneHotEncoder(drop=\"first\", sparse=False, handle_unknown=\"ignore\")\n",
        "\n",
        "transformer_lr = ColumnTransformer([\n",
        "    (\"categorical\", enc_lr, categorical_variables)\n",
        "], remainder=\"passthrough\")"
      ]
    },
    {
      "cell_type": "markdown",
      "id": "51a14be7",
      "metadata": {
        "id": "51a14be7"
      },
      "source": [
        "<h2>Pipeline</h2>"
      ]
    },
    {
      "cell_type": "code",
      "execution_count": null,
      "id": "976c9747",
      "metadata": {
        "id": "976c9747"
      },
      "outputs": [],
      "source": [
        "lr = LogisticRegression(max_iter=10000, solver=\"liblinear\", penalty=\"l1\")\n",
        "\n",
        "pipeline_lr = Pipeline(steps=[(\"transformer\", transformer_lr), (\"scaler\", StandardScaler()), ('pca', PCA()), (\"logistic\", lr)])\n"
      ]
    },
    {
      "cell_type": "markdown",
      "id": "93e77fc8",
      "metadata": {
        "id": "93e77fc8"
      },
      "source": [
        "<h2>Cross Validation</h2>"
      ]
    },
    {
      "cell_type": "code",
      "execution_count": null,
      "id": "d3939652",
      "metadata": {
        "colab": {
          "base_uri": "https://localhost:8080/",
          "height": 380
        },
        "id": "d3939652",
        "outputId": "3ca5dbe8-a7c4-4ba0-f70c-9f614ef32721"
      },
      "outputs": [
        {
          "output_type": "stream",
          "name": "stdout",
          "text": [
            "Mean test score:  0.8142857142857143\n"
          ]
        },
        {
          "output_type": "display_data",
          "data": {
            "text/plain": [
              "   fit_time  score_time  test_score  train_score\n",
              "0  0.027988    0.002686    0.772727     0.855670\n",
              "1  0.003815    0.001837    0.727273     0.881443\n",
              "2  0.003996    0.001851    0.772727     0.845361\n",
              "3  0.003784    0.001939    0.863636     0.850515\n",
              "4  0.003876    0.001911    0.954545     0.835052\n",
              "5  0.003933    0.001948    0.909091     0.840206\n",
              "6  0.003891    0.002110    0.761905     0.841026\n",
              "7  0.003779    0.001876    0.857143     0.841026\n",
              "8  0.003797    0.001909    0.714286     0.851282\n",
              "9  0.003846    0.001924    0.809524     0.841026"
            ],
            "text/html": [
              "\n",
              "  <div id=\"df-1cc2a6c5-a177-41ae-944a-bd2b86ba458d\">\n",
              "    <div class=\"colab-df-container\">\n",
              "      <div>\n",
              "<style scoped>\n",
              "    .dataframe tbody tr th:only-of-type {\n",
              "        vertical-align: middle;\n",
              "    }\n",
              "\n",
              "    .dataframe tbody tr th {\n",
              "        vertical-align: top;\n",
              "    }\n",
              "\n",
              "    .dataframe thead th {\n",
              "        text-align: right;\n",
              "    }\n",
              "</style>\n",
              "<table border=\"1\" class=\"dataframe\">\n",
              "  <thead>\n",
              "    <tr style=\"text-align: right;\">\n",
              "      <th></th>\n",
              "      <th>fit_time</th>\n",
              "      <th>score_time</th>\n",
              "      <th>test_score</th>\n",
              "      <th>train_score</th>\n",
              "    </tr>\n",
              "  </thead>\n",
              "  <tbody>\n",
              "    <tr>\n",
              "      <th>0</th>\n",
              "      <td>0.027988</td>\n",
              "      <td>0.002686</td>\n",
              "      <td>0.772727</td>\n",
              "      <td>0.855670</td>\n",
              "    </tr>\n",
              "    <tr>\n",
              "      <th>1</th>\n",
              "      <td>0.003815</td>\n",
              "      <td>0.001837</td>\n",
              "      <td>0.727273</td>\n",
              "      <td>0.881443</td>\n",
              "    </tr>\n",
              "    <tr>\n",
              "      <th>2</th>\n",
              "      <td>0.003996</td>\n",
              "      <td>0.001851</td>\n",
              "      <td>0.772727</td>\n",
              "      <td>0.845361</td>\n",
              "    </tr>\n",
              "    <tr>\n",
              "      <th>3</th>\n",
              "      <td>0.003784</td>\n",
              "      <td>0.001939</td>\n",
              "      <td>0.863636</td>\n",
              "      <td>0.850515</td>\n",
              "    </tr>\n",
              "    <tr>\n",
              "      <th>4</th>\n",
              "      <td>0.003876</td>\n",
              "      <td>0.001911</td>\n",
              "      <td>0.954545</td>\n",
              "      <td>0.835052</td>\n",
              "    </tr>\n",
              "    <tr>\n",
              "      <th>5</th>\n",
              "      <td>0.003933</td>\n",
              "      <td>0.001948</td>\n",
              "      <td>0.909091</td>\n",
              "      <td>0.840206</td>\n",
              "    </tr>\n",
              "    <tr>\n",
              "      <th>6</th>\n",
              "      <td>0.003891</td>\n",
              "      <td>0.002110</td>\n",
              "      <td>0.761905</td>\n",
              "      <td>0.841026</td>\n",
              "    </tr>\n",
              "    <tr>\n",
              "      <th>7</th>\n",
              "      <td>0.003779</td>\n",
              "      <td>0.001876</td>\n",
              "      <td>0.857143</td>\n",
              "      <td>0.841026</td>\n",
              "    </tr>\n",
              "    <tr>\n",
              "      <th>8</th>\n",
              "      <td>0.003797</td>\n",
              "      <td>0.001909</td>\n",
              "      <td>0.714286</td>\n",
              "      <td>0.851282</td>\n",
              "    </tr>\n",
              "    <tr>\n",
              "      <th>9</th>\n",
              "      <td>0.003846</td>\n",
              "      <td>0.001924</td>\n",
              "      <td>0.809524</td>\n",
              "      <td>0.841026</td>\n",
              "    </tr>\n",
              "  </tbody>\n",
              "</table>\n",
              "</div>\n",
              "      <button class=\"colab-df-convert\" onclick=\"convertToInteractive('df-1cc2a6c5-a177-41ae-944a-bd2b86ba458d')\"\n",
              "              title=\"Convert this dataframe to an interactive table.\"\n",
              "              style=\"display:none;\">\n",
              "        \n",
              "  <svg xmlns=\"http://www.w3.org/2000/svg\" height=\"24px\"viewBox=\"0 0 24 24\"\n",
              "       width=\"24px\">\n",
              "    <path d=\"M0 0h24v24H0V0z\" fill=\"none\"/>\n",
              "    <path d=\"M18.56 5.44l.94 2.06.94-2.06 2.06-.94-2.06-.94-.94-2.06-.94 2.06-2.06.94zm-11 1L8.5 8.5l.94-2.06 2.06-.94-2.06-.94L8.5 2.5l-.94 2.06-2.06.94zm10 10l.94 2.06.94-2.06 2.06-.94-2.06-.94-.94-2.06-.94 2.06-2.06.94z\"/><path d=\"M17.41 7.96l-1.37-1.37c-.4-.4-.92-.59-1.43-.59-.52 0-1.04.2-1.43.59L10.3 9.45l-7.72 7.72c-.78.78-.78 2.05 0 2.83L4 21.41c.39.39.9.59 1.41.59.51 0 1.02-.2 1.41-.59l7.78-7.78 2.81-2.81c.8-.78.8-2.07 0-2.86zM5.41 20L4 18.59l7.72-7.72 1.47 1.35L5.41 20z\"/>\n",
              "  </svg>\n",
              "      </button>\n",
              "      \n",
              "  <style>\n",
              "    .colab-df-container {\n",
              "      display:flex;\n",
              "      flex-wrap:wrap;\n",
              "      gap: 12px;\n",
              "    }\n",
              "\n",
              "    .colab-df-convert {\n",
              "      background-color: #E8F0FE;\n",
              "      border: none;\n",
              "      border-radius: 50%;\n",
              "      cursor: pointer;\n",
              "      display: none;\n",
              "      fill: #1967D2;\n",
              "      height: 32px;\n",
              "      padding: 0 0 0 0;\n",
              "      width: 32px;\n",
              "    }\n",
              "\n",
              "    .colab-df-convert:hover {\n",
              "      background-color: #E2EBFA;\n",
              "      box-shadow: 0px 1px 2px rgba(60, 64, 67, 0.3), 0px 1px 3px 1px rgba(60, 64, 67, 0.15);\n",
              "      fill: #174EA6;\n",
              "    }\n",
              "\n",
              "    [theme=dark] .colab-df-convert {\n",
              "      background-color: #3B4455;\n",
              "      fill: #D2E3FC;\n",
              "    }\n",
              "\n",
              "    [theme=dark] .colab-df-convert:hover {\n",
              "      background-color: #434B5C;\n",
              "      box-shadow: 0px 1px 3px 1px rgba(0, 0, 0, 0.15);\n",
              "      filter: drop-shadow(0px 1px 2px rgba(0, 0, 0, 0.3));\n",
              "      fill: #FFFFFF;\n",
              "    }\n",
              "  </style>\n",
              "\n",
              "      <script>\n",
              "        const buttonEl =\n",
              "          document.querySelector('#df-1cc2a6c5-a177-41ae-944a-bd2b86ba458d button.colab-df-convert');\n",
              "        buttonEl.style.display =\n",
              "          google.colab.kernel.accessAllowed ? 'block' : 'none';\n",
              "\n",
              "        async function convertToInteractive(key) {\n",
              "          const element = document.querySelector('#df-1cc2a6c5-a177-41ae-944a-bd2b86ba458d');\n",
              "          const dataTable =\n",
              "            await google.colab.kernel.invokeFunction('convertToInteractive',\n",
              "                                                     [key], {});\n",
              "          if (!dataTable) return;\n",
              "\n",
              "          const docLinkHtml = 'Like what you see? Visit the ' +\n",
              "            '<a target=\"_blank\" href=https://colab.research.google.com/notebooks/data_table.ipynb>data table notebook</a>'\n",
              "            + ' to learn more about interactive tables.';\n",
              "          element.innerHTML = '';\n",
              "          dataTable['output_type'] = 'display_data';\n",
              "          await google.colab.output.renderOutput(dataTable, element);\n",
              "          const docLink = document.createElement('div');\n",
              "          docLink.innerHTML = docLinkHtml;\n",
              "          element.appendChild(docLink);\n",
              "        }\n",
              "      </script>\n",
              "    </div>\n",
              "  </div>\n",
              "  "
            ]
          },
          "metadata": {}
        }
      ],
      "source": [
        "def show_cv_results(pipeline):\n",
        "    scores = cross_validate(pipeline, X_train, y_train, cv=10, return_train_score=True)\n",
        "    print(\"Mean test score: \", scores[\"test_score\"].mean())\n",
        "    display(pd.DataFrame(scores))\n",
        "    \n",
        "show_cv_results(pipeline_lr)"
      ]
    },
    {
      "cell_type": "markdown",
      "id": "c3a743b2",
      "metadata": {
        "id": "c3a743b2"
      },
      "source": [
        "<h2>Hyperparameter Tuning</h2>"
      ]
    },
    {
      "cell_type": "code",
      "execution_count": null,
      "id": "420f3b79",
      "metadata": {
        "colab": {
          "base_uri": "https://localhost:8080/",
          "height": 481
        },
        "id": "420f3b79",
        "outputId": "b17a3fa2-2fa7-4ed4-8f2a-6b2e5307010f"
      },
      "outputs": [
        {
          "output_type": "stream",
          "name": "stdout",
          "text": [
            "Best combination of hyperparams:\n",
            " {'logistic__C': 0.040949150623804234, 'logistic__penalty': 'l2', 'pca__n_components': 11} \n",
            "\n",
            "Best mean_test_score score:\n",
            " 0.8335095137420719 \n",
            "\n",
            "Score by fold for best estimator:\n",
            " [0.7954545454545454, 0.8372093023255814, 0.9302325581395349, 0.813953488372093, 0.7906976744186046] \n",
            "\n",
            "Best penalty:  l2 \n",
            "\n",
            "Best number of components:  11 \n",
            "\n",
            "Top 5 hyperparams combinations by mean_test_score:\n"
          ]
        },
        {
          "output_type": "display_data",
          "data": {
            "text/plain": [
              "                 mean_test_score param_logistic__C param_logistic__penalty  \\\n",
              "rank_test_score                                                              \n",
              "1                        0.83351          0.086851                      l2   \n",
              "1                        0.83351          0.040949                      l2   \n",
              "1                        0.83351           0.26827                      l2   \n",
              "1                        0.83351          0.059636                      l2   \n",
              "1                        0.83351          0.059636                      l2   \n",
              "\n",
              "                param_pca__n_components  \n",
              "rank_test_score                          \n",
              "1                                    11  \n",
              "1                                    11  \n",
              "1                                    11  \n",
              "1                                    12  \n",
              "1                                    11  "
            ],
            "text/html": [
              "\n",
              "  <div id=\"df-b0367898-9e60-4625-b2a4-4f306bc2d7c0\">\n",
              "    <div class=\"colab-df-container\">\n",
              "      <div>\n",
              "<style scoped>\n",
              "    .dataframe tbody tr th:only-of-type {\n",
              "        vertical-align: middle;\n",
              "    }\n",
              "\n",
              "    .dataframe tbody tr th {\n",
              "        vertical-align: top;\n",
              "    }\n",
              "\n",
              "    .dataframe thead th {\n",
              "        text-align: right;\n",
              "    }\n",
              "</style>\n",
              "<table border=\"1\" class=\"dataframe\">\n",
              "  <thead>\n",
              "    <tr style=\"text-align: right;\">\n",
              "      <th></th>\n",
              "      <th>mean_test_score</th>\n",
              "      <th>param_logistic__C</th>\n",
              "      <th>param_logistic__penalty</th>\n",
              "      <th>param_pca__n_components</th>\n",
              "    </tr>\n",
              "    <tr>\n",
              "      <th>rank_test_score</th>\n",
              "      <th></th>\n",
              "      <th></th>\n",
              "      <th></th>\n",
              "      <th></th>\n",
              "    </tr>\n",
              "  </thead>\n",
              "  <tbody>\n",
              "    <tr>\n",
              "      <th>1</th>\n",
              "      <td>0.83351</td>\n",
              "      <td>0.086851</td>\n",
              "      <td>l2</td>\n",
              "      <td>11</td>\n",
              "    </tr>\n",
              "    <tr>\n",
              "      <th>1</th>\n",
              "      <td>0.83351</td>\n",
              "      <td>0.040949</td>\n",
              "      <td>l2</td>\n",
              "      <td>11</td>\n",
              "    </tr>\n",
              "    <tr>\n",
              "      <th>1</th>\n",
              "      <td>0.83351</td>\n",
              "      <td>0.26827</td>\n",
              "      <td>l2</td>\n",
              "      <td>11</td>\n",
              "    </tr>\n",
              "    <tr>\n",
              "      <th>1</th>\n",
              "      <td>0.83351</td>\n",
              "      <td>0.059636</td>\n",
              "      <td>l2</td>\n",
              "      <td>12</td>\n",
              "    </tr>\n",
              "    <tr>\n",
              "      <th>1</th>\n",
              "      <td>0.83351</td>\n",
              "      <td>0.059636</td>\n",
              "      <td>l2</td>\n",
              "      <td>11</td>\n",
              "    </tr>\n",
              "  </tbody>\n",
              "</table>\n",
              "</div>\n",
              "      <button class=\"colab-df-convert\" onclick=\"convertToInteractive('df-b0367898-9e60-4625-b2a4-4f306bc2d7c0')\"\n",
              "              title=\"Convert this dataframe to an interactive table.\"\n",
              "              style=\"display:none;\">\n",
              "        \n",
              "  <svg xmlns=\"http://www.w3.org/2000/svg\" height=\"24px\"viewBox=\"0 0 24 24\"\n",
              "       width=\"24px\">\n",
              "    <path d=\"M0 0h24v24H0V0z\" fill=\"none\"/>\n",
              "    <path d=\"M18.56 5.44l.94 2.06.94-2.06 2.06-.94-2.06-.94-.94-2.06-.94 2.06-2.06.94zm-11 1L8.5 8.5l.94-2.06 2.06-.94-2.06-.94L8.5 2.5l-.94 2.06-2.06.94zm10 10l.94 2.06.94-2.06 2.06-.94-2.06-.94-.94-2.06-.94 2.06-2.06.94z\"/><path d=\"M17.41 7.96l-1.37-1.37c-.4-.4-.92-.59-1.43-.59-.52 0-1.04.2-1.43.59L10.3 9.45l-7.72 7.72c-.78.78-.78 2.05 0 2.83L4 21.41c.39.39.9.59 1.41.59.51 0 1.02-.2 1.41-.59l7.78-7.78 2.81-2.81c.8-.78.8-2.07 0-2.86zM5.41 20L4 18.59l7.72-7.72 1.47 1.35L5.41 20z\"/>\n",
              "  </svg>\n",
              "      </button>\n",
              "      \n",
              "  <style>\n",
              "    .colab-df-container {\n",
              "      display:flex;\n",
              "      flex-wrap:wrap;\n",
              "      gap: 12px;\n",
              "    }\n",
              "\n",
              "    .colab-df-convert {\n",
              "      background-color: #E8F0FE;\n",
              "      border: none;\n",
              "      border-radius: 50%;\n",
              "      cursor: pointer;\n",
              "      display: none;\n",
              "      fill: #1967D2;\n",
              "      height: 32px;\n",
              "      padding: 0 0 0 0;\n",
              "      width: 32px;\n",
              "    }\n",
              "\n",
              "    .colab-df-convert:hover {\n",
              "      background-color: #E2EBFA;\n",
              "      box-shadow: 0px 1px 2px rgba(60, 64, 67, 0.3), 0px 1px 3px 1px rgba(60, 64, 67, 0.15);\n",
              "      fill: #174EA6;\n",
              "    }\n",
              "\n",
              "    [theme=dark] .colab-df-convert {\n",
              "      background-color: #3B4455;\n",
              "      fill: #D2E3FC;\n",
              "    }\n",
              "\n",
              "    [theme=dark] .colab-df-convert:hover {\n",
              "      background-color: #434B5C;\n",
              "      box-shadow: 0px 1px 3px 1px rgba(0, 0, 0, 0.15);\n",
              "      filter: drop-shadow(0px 1px 2px rgba(0, 0, 0, 0.3));\n",
              "      fill: #FFFFFF;\n",
              "    }\n",
              "  </style>\n",
              "\n",
              "      <script>\n",
              "        const buttonEl =\n",
              "          document.querySelector('#df-b0367898-9e60-4625-b2a4-4f306bc2d7c0 button.colab-df-convert');\n",
              "        buttonEl.style.display =\n",
              "          google.colab.kernel.accessAllowed ? 'block' : 'none';\n",
              "\n",
              "        async function convertToInteractive(key) {\n",
              "          const element = document.querySelector('#df-b0367898-9e60-4625-b2a4-4f306bc2d7c0');\n",
              "          const dataTable =\n",
              "            await google.colab.kernel.invokeFunction('convertToInteractive',\n",
              "                                                     [key], {});\n",
              "          if (!dataTable) return;\n",
              "\n",
              "          const docLinkHtml = 'Like what you see? Visit the ' +\n",
              "            '<a target=\"_blank\" href=https://colab.research.google.com/notebooks/data_table.ipynb>data table notebook</a>'\n",
              "            + ' to learn more about interactive tables.';\n",
              "          element.innerHTML = '';\n",
              "          dataTable['output_type'] = 'display_data';\n",
              "          await google.colab.output.renderOutput(dataTable, element);\n",
              "          const docLink = document.createElement('div');\n",
              "          docLink.innerHTML = docLinkHtml;\n",
              "          element.appendChild(docLink);\n",
              "        }\n",
              "      </script>\n",
              "    </div>\n",
              "  </div>\n",
              "  "
            ]
          },
          "metadata": {}
        }
      ],
      "source": [
        "n_components = list(range(1, X.shape[1]+1, 1))\n",
        "C = np.logspace(-4, 4, 50)\n",
        "penalty = ['l1', 'l2']\n",
        "\n",
        "parameters = dict(logistic__C=C,\n",
        "                  logistic__penalty=penalty,\n",
        "                  pca__n_components=n_components)\n",
        "\n",
        "gs_lr = GridSearchCV(pipeline_lr, parameters)\n",
        "gs_lr.fit(X_train, y_train)\n",
        "\n",
        "def report_GridSearchCV_results(gs):\n",
        "    print(\"Best combination of hyperparams:\\n\", gs.best_params_, \"\\n\")\n",
        "    print(\"Best mean_test_score score:\\n\", gs.best_score_, \"\\n\")\n",
        "    \n",
        "    scores = []\n",
        "    for i in range(gs.n_splits_):\n",
        "        scores.append(gs.cv_results_['split{}_test_score'.format(i)][gs.best_index_])\n",
        "    print(\"Score by fold for best estimator:\\n\", scores, \"\\n\")\n",
        "    print('Best penalty: ', gs.best_estimator_.get_params()['logistic__penalty'], \"\\n\")\n",
        "    print('Best number of components: ', gs.best_estimator_.get_params()['pca__n_components'], \"\\n\")\n",
        "    \n",
        "    # View top 5 hyperparams combinations by mean_test_score (mean on \"validation\" set)\n",
        "    print(\"Top 5 hyperparams combinations by mean_test_score:\")\n",
        "    display(pd.DataFrame(gs.cv_results_)[[\"rank_test_score\", \"mean_test_score\"] \n",
        "                                            + [\"param_\" + param for param in gs.param_grid]]\\\n",
        "              .sort_values(by = \"mean_test_score\", ascending = False)\\\n",
        "              .set_index(\"rank_test_score\").head(5))    \n",
        "    \n",
        "    \n",
        "report_GridSearchCV_results(gs_lr)"
      ]
    },
    {
      "cell_type": "markdown",
      "id": "548fd7e8",
      "metadata": {
        "id": "548fd7e8"
      },
      "source": [
        "<h2>Performance on Test Set</h2>"
      ]
    },
    {
      "cell_type": "code",
      "execution_count": null,
      "id": "e0422dcc",
      "metadata": {
        "id": "e0422dcc",
        "outputId": "7920d583-d87f-436f-ceda-0c427e14a870",
        "colab": {
          "base_uri": "https://localhost:8080/",
          "height": 435
        }
      },
      "outputs": [
        {
          "output_type": "stream",
          "name": "stdout",
          "text": [
            "              precision    recall  f1-score   support\n",
            "\n",
            "     Absence       0.89      0.97      0.93        33\n",
            "    Presence       0.94      0.81      0.87        21\n",
            "\n",
            "    accuracy                           0.91        54\n",
            "   macro avg       0.92      0.89      0.90        54\n",
            "weighted avg       0.91      0.91      0.91        54\n",
            "\n"
          ]
        },
        {
          "output_type": "display_data",
          "data": {
            "text/plain": [
              "<Figure size 432x288 with 2 Axes>"
            ],
            "image/png": "[encoded data removed]"
          },
          "metadata": {
            "needs_background": "light"
          }
        }
      ],
      "source": [
        "def score_model(model, x, y):\n",
        "    pred = model.predict(x)\n",
        "    print(classification_report(y, pred))\n",
        "    \n",
        "    cm = confusion_matrix(y, pred)\n",
        "    columns = np.unique(y)\n",
        "    df_cm = pd.DataFrame(cm, index=columns, columns=columns)\n",
        "    ax = sns.heatmap(df_cm, cmap='Blues', annot=True, fmt='g')\n",
        "    ax.set_xlabel(\"Predicted\")\n",
        "    ax.set_ylabel(\"Actual\")\n",
        "    \n",
        "score_model(gs_lr, X_test, y_test)"
      ]
    },
    {
      "cell_type": "markdown",
      "source": [
        "# Random Forest Classifier"
      ],
      "metadata": {
        "id": "C-H21OY7_ibX"
      },
      "id": "C-H21OY7_ibX"
    },
    {
      "cell_type": "code",
      "source": [
        "#get list of all categorical variables\n",
        "categorical_variables = []\n",
        "\n",
        "for column in X_train.columns:\n",
        "    if df[column].dtype == \"object\":\n",
        "        categorical_variables.append(column)\n",
        "    \n",
        "print(\"Categorical variables: \", categorical_variables) #No categorical dependent variables\n",
        "\n",
        "#One-hot encoding, fitted on the train dataset\n",
        "enc_rf = OneHotEncoder(drop=\"first\", sparse=False, handle_unknown=\"ignore\")\n",
        "\n",
        "transformer_rf = ColumnTransformer([\n",
        "    (\"categorical\", enc_rf, categorical_variables)\n",
        "], remainder=\"passthrough\")"
      ],
      "metadata": {
        "colab": {
          "base_uri": "https://localhost:8080/"
        },
        "id": "gDq_BruIFk15",
        "outputId": "4fb9c437-20e3-465d-fdbc-db15fc1bf2f7"
      },
      "id": "gDq_BruIFk15",
      "execution_count": null,
      "outputs": [
        {
          "output_type": "stream",
          "name": "stdout",
          "text": [
            "Categorical variables:  []\n"
          ]
        }
      ]
    },
    {
      "cell_type": "code",
      "source": [
        "rf = RandomForestClassifier(bootstrap = True, max_depth = 60, n_estimators = 60, random_state = 42)\n",
        "\n",
        "pipeline_rf = Pipeline(steps=[(\"transformer\", transformer_rf), (\"scaler\", StandardScaler()), ('pca', PCA()), (\"randomforest\", rf)])"
      ],
      "metadata": {
        "id": "_f7FAVzvBmPZ"
      },
      "id": "_f7FAVzvBmPZ",
      "execution_count": null,
      "outputs": []
    },
    {
      "cell_type": "markdown",
      "source": [
        "## Cross Validation"
      ],
      "metadata": {
        "id": "BUAnZZUXC_nb"
      },
      "id": "BUAnZZUXC_nb"
    },
    {
      "cell_type": "code",
      "source": [
        "show_cv_results(pipeline_rf)"
      ],
      "metadata": {
        "colab": {
          "base_uri": "https://localhost:8080/",
          "height": 380
        },
        "id": "pJ2ScltRDFAQ",
        "outputId": "c414308a-b998-487d-c815-3938d4cca983"
      },
      "id": "pJ2ScltRDFAQ",
      "execution_count": null,
      "outputs": [
        {
          "output_type": "stream",
          "name": "stdout",
          "text": [
            "Mean test score:  0.8244588744588744\n"
          ]
        },
        {
          "output_type": "display_data",
          "data": {
            "text/plain": [
              "   fit_time  score_time  test_score  train_score\n",
              "0  0.103564    0.007937    0.818182          1.0\n",
              "1  0.094180    0.007794    0.681818          1.0\n",
              "2  0.095928    0.007797    0.772727          1.0\n",
              "3  0.094724    0.011622    0.818182          1.0\n",
              "4  0.095824    0.008250    0.909091          1.0\n",
              "5  0.098263    0.007885    0.863636          1.0\n",
              "6  0.102583    0.007821    0.809524          1.0\n",
              "7  0.103645    0.010336    0.904762          1.0\n",
              "8  0.097836    0.008335    0.761905          1.0\n",
              "9  0.097470    0.018096    0.904762          1.0"
            ],
            "text/html": [
              "\n",
              "  <div id=\"df-c4021ed9-93d8-4dd2-baca-9263717fd864\">\n",
              "    <div class=\"colab-df-container\">\n",
              "      <div>\n",
              "<style scoped>\n",
              "    .dataframe tbody tr th:only-of-type {\n",
              "        vertical-align: middle;\n",
              "    }\n",
              "\n",
              "    .dataframe tbody tr th {\n",
              "        vertical-align: top;\n",
              "    }\n",
              "\n",
              "    .dataframe thead th {\n",
              "        text-align: right;\n",
              "    }\n",
              "</style>\n",
              "<table border=\"1\" class=\"dataframe\">\n",
              "  <thead>\n",
              "    <tr style=\"text-align: right;\">\n",
              "      <th></th>\n",
              "      <th>fit_time</th>\n",
              "      <th>score_time</th>\n",
              "      <th>test_score</th>\n",
              "      <th>train_score</th>\n",
              "    </tr>\n",
              "  </thead>\n",
              "  <tbody>\n",
              "    <tr>\n",
              "      <th>0</th>\n",
              "      <td>0.103564</td>\n",
              "      <td>0.007937</td>\n",
              "      <td>0.818182</td>\n",
              "      <td>1.0</td>\n",
              "    </tr>\n",
              "    <tr>\n",
              "      <th>1</th>\n",
              "      <td>0.094180</td>\n",
              "      <td>0.007794</td>\n",
              "      <td>0.681818</td>\n",
              "      <td>1.0</td>\n",
              "    </tr>\n",
              "    <tr>\n",
              "      <th>2</th>\n",
              "      <td>0.095928</td>\n",
              "      <td>0.007797</td>\n",
              "      <td>0.772727</td>\n",
              "      <td>1.0</td>\n",
              "    </tr>\n",
              "    <tr>\n",
              "      <th>3</th>\n",
              "      <td>0.094724</td>\n",
              "      <td>0.011622</td>\n",
              "      <td>0.818182</td>\n",
              "      <td>1.0</td>\n",
              "    </tr>\n",
              "    <tr>\n",
              "      <th>4</th>\n",
              "      <td>0.095824</td>\n",
              "      <td>0.008250</td>\n",
              "      <td>0.909091</td>\n",
              "      <td>1.0</td>\n",
              "    </tr>\n",
              "    <tr>\n",
              "      <th>5</th>\n",
              "      <td>0.098263</td>\n",
              "      <td>0.007885</td>\n",
              "      <td>0.863636</td>\n",
              "      <td>1.0</td>\n",
              "    </tr>\n",
              "    <tr>\n",
              "      <th>6</th>\n",
              "      <td>0.102583</td>\n",
              "      <td>0.007821</td>\n",
              "      <td>0.809524</td>\n",
              "      <td>1.0</td>\n",
              "    </tr>\n",
              "    <tr>\n",
              "      <th>7</th>\n",
              "      <td>0.103645</td>\n",
              "      <td>0.010336</td>\n",
              "      <td>0.904762</td>\n",
              "      <td>1.0</td>\n",
              "    </tr>\n",
              "    <tr>\n",
              "      <th>8</th>\n",
              "      <td>0.097836</td>\n",
              "      <td>0.008335</td>\n",
              "      <td>0.761905</td>\n",
              "      <td>1.0</td>\n",
              "    </tr>\n",
              "    <tr>\n",
              "      <th>9</th>\n",
              "      <td>0.097470</td>\n",
              "      <td>0.018096</td>\n",
              "      <td>0.904762</td>\n",
              "      <td>1.0</td>\n",
              "    </tr>\n",
              "  </tbody>\n",
              "</table>\n",
              "</div>\n",
              "      <button class=\"colab-df-convert\" onclick=\"convertToInteractive('df-c4021ed9-93d8-4dd2-baca-9263717fd864')\"\n",
              "              title=\"Convert this dataframe to an interactive table.\"\n",
              "              style=\"display:none;\">\n",
              "        \n",
              "  <svg xmlns=\"http://www.w3.org/2000/svg\" height=\"24px\"viewBox=\"0 0 24 24\"\n",
              "       width=\"24px\">\n",
              "    <path d=\"M0 0h24v24H0V0z\" fill=\"none\"/>\n",
              "    <path d=\"M18.56 5.44l.94 2.06.94-2.06 2.06-.94-2.06-.94-.94-2.06-.94 2.06-2.06.94zm-11 1L8.5 8.5l.94-2.06 2.06-.94-2.06-.94L8.5 2.5l-.94 2.06-2.06.94zm10 10l.94 2.06.94-2.06 2.06-.94-2.06-.94-.94-2.06-.94 2.06-2.06.94z\"/><path d=\"M17.41 7.96l-1.37-1.37c-.4-.4-.92-.59-1.43-.59-.52 0-1.04.2-1.43.59L10.3 9.45l-7.72 7.72c-.78.78-.78 2.05 0 2.83L4 21.41c.39.39.9.59 1.41.59.51 0 1.02-.2 1.41-.59l7.78-7.78 2.81-2.81c.8-.78.8-2.07 0-2.86zM5.41 20L4 18.59l7.72-7.72 1.47 1.35L5.41 20z\"/>\n",
              "  </svg>\n",
              "      </button>\n",
              "      \n",
              "  <style>\n",
              "    .colab-df-container {\n",
              "      display:flex;\n",
              "      flex-wrap:wrap;\n",
              "      gap: 12px;\n",
              "    }\n",
              "\n",
              "    .colab-df-convert {\n",
              "      background-color: #E8F0FE;\n",
              "      border: none;\n",
              "      border-radius: 50%;\n",
              "      cursor: pointer;\n",
              "      display: none;\n",
              "      fill: #1967D2;\n",
              "      height: 32px;\n",
              "      padding: 0 0 0 0;\n",
              "      width: 32px;\n",
              "    }\n",
              "\n",
              "    .colab-df-convert:hover {\n",
              "      background-color: #E2EBFA;\n",
              "      box-shadow: 0px 1px 2px rgba(60, 64, 67, 0.3), 0px 1px 3px 1px rgba(60, 64, 67, 0.15);\n",
              "      fill: #174EA6;\n",
              "    }\n",
              "\n",
              "    [theme=dark] .colab-df-convert {\n",
              "      background-color: #3B4455;\n",
              "      fill: #D2E3FC;\n",
              "    }\n",
              "\n",
              "    [theme=dark] .colab-df-convert:hover {\n",
              "      background-color: #434B5C;\n",
              "      box-shadow: 0px 1px 3px 1px rgba(0, 0, 0, 0.15);\n",
              "      filter: drop-shadow(0px 1px 2px rgba(0, 0, 0, 0.3));\n",
              "      fill: #FFFFFF;\n",
              "    }\n",
              "  </style>\n",
              "\n",
              "      <script>\n",
              "        const buttonEl =\n",
              "          document.querySelector('#df-c4021ed9-93d8-4dd2-baca-9263717fd864 button.colab-df-convert');\n",
              "        buttonEl.style.display =\n",
              "          google.colab.kernel.accessAllowed ? 'block' : 'none';\n",
              "\n",
              "        async function convertToInteractive(key) {\n",
              "          const element = document.querySelector('#df-c4021ed9-93d8-4dd2-baca-9263717fd864');\n",
              "          const dataTable =\n",
              "            await google.colab.kernel.invokeFunction('convertToInteractive',\n",
              "                                                     [key], {});\n",
              "          if (!dataTable) return;\n",
              "\n",
              "          const docLinkHtml = 'Like what you see? Visit the ' +\n",
              "            '<a target=\"_blank\" href=https://colab.research.google.com/notebooks/data_table.ipynb>data table notebook</a>'\n",
              "            + ' to learn more about interactive tables.';\n",
              "          element.innerHTML = '';\n",
              "          dataTable['output_type'] = 'display_data';\n",
              "          await google.colab.output.renderOutput(dataTable, element);\n",
              "          const docLink = document.createElement('div');\n",
              "          docLink.innerHTML = docLinkHtml;\n",
              "          element.appendChild(docLink);\n",
              "        }\n",
              "      </script>\n",
              "    </div>\n",
              "  </div>\n",
              "  "
            ]
          },
          "metadata": {}
        }
      ]
    },
    {
      "cell_type": "markdown",
      "source": [
        "## Hyperparameter Tuning"
      ],
      "metadata": {
        "id": "ZBVXUaUbF3B_"
      },
      "id": "ZBVXUaUbF3B_"
    },
    {
      "cell_type": "code",
      "source": [
        "n_components = list(range(1, X.shape[1]+1, 1))\n",
        "\n",
        "param_grid = dict(\n",
        "    randomforest__bootstrap = [True, False],\n",
        "    randomforest__max_depth = [50, 60, 80],\n",
        "    randomforest__n_estimators = [50, 60, 80, 100],\n",
        "    pca__n_components = n_components)\n",
        "\n",
        "\n",
        "\n",
        "gs_rf = GridSearchCV(pipeline_rf, param_grid)\n",
        "gs_rf.fit(X_train, y_train)"
      ],
      "metadata": {
        "colab": {
          "base_uri": "https://localhost:8080/"
        },
        "id": "tOfJJoU0F7nA",
        "outputId": "ccf3ddec-622f-496e-8594-221563847e15"
      },
      "id": "tOfJJoU0F7nA",
      "execution_count": null,
      "outputs": [
        {
          "output_type": "execute_result",
          "data": {
            "text/plain": [
              "GridSearchCV(estimator=Pipeline(steps=[('transformer',\n",
              "                                        ColumnTransformer(remainder='passthrough',\n",
              "                                                          transformers=[('categorical',\n",
              "                                                                         OneHotEncoder(drop='first',\n",
              "                                                                                       handle_unknown='ignore',\n",
              "                                                                                       sparse=False),\n",
              "                                                                         [])])),\n",
              "                                       ('scaler', StandardScaler()),\n",
              "                                       ('pca', PCA()),\n",
              "                                       ('randomforest',\n",
              "                                        RandomForestClassifier(max_depth=60,\n",
              "                                                               n_estimators=60,\n",
              "                                                               random_state=42))]),\n",
              "             param_grid={'pca__n_components': [1, 2, 3, 4, 5, 6, 7, 8, 9, 10,\n",
              "                                               11, 12, 13],\n",
              "                         'randomforest__bootstrap': [True, False],\n",
              "                         'randomforest__max_depth': [50, 60, 80],\n",
              "                         'randomforest__n_estimators': [50, 60, 80, 100]})"
            ]
          },
          "metadata": {},
          "execution_count": 17
        }
      ]
    },
    {
      "cell_type": "code",
      "source": [
        "def report_GridSearchCV_results(gs):\n",
        "    print(\"Best combination of hyperparams:\\n\", gs.best_params_, \"\\n\")\n",
        "    print(\"Best mean_test_score score:\\n\", gs.best_score_, \"\\n\")\n",
        "    \n",
        "    scores = []\n",
        "    for i in range(gs.n_splits_):\n",
        "        scores.append(gs.cv_results_['split{}_test_score'.format(i)][gs.best_index_])\n",
        "    \n",
        "    print(\"Score by fold for best estimator:\\n\", scores, \"\\n\")\n",
        "    \n",
        "    print('Bootstrap: ', gs.best_estimator_.get_params()['randomforest__bootstrap'], \"\\n\")\n",
        "    print('Best Max Depth: ', gs.best_estimator_.get_params()['randomforest__max_depth'], \"\\n\")\n",
        "    print('Best n_estimators: ', gs.best_estimator_.get_params()['randomforest__n_estimators'], \"\\n\")\n",
        "    print('Best number of components: ',  gs.best_estimator_.get_params()['pca__n_components'], \"\\n\")\n",
        "    \n",
        "    # View top 5 hyperparams combinations by mean_test_score (mean on \"validation\" set)\n",
        "    print(\"Top 5 hyperparams combinations by mean_test_score:\")\n",
        "    display(pd.DataFrame(gs.cv_results_)[[\"rank_test_score\", \"mean_test_score\"] \n",
        "                                            + [\"param_\" + param for param in gs.param_grid]]\\\n",
        "              .sort_values(by = \"mean_test_score\", ascending = False)\\\n",
        "              .set_index(\"rank_test_score\").head(5))\n",
        "    \n",
        "\n",
        "report_GridSearchCV_results(gs_rf)"
      ],
      "metadata": {
        "colab": {
          "base_uri": "https://localhost:8080/",
          "height": 603
        },
        "id": "xB7CYtLMPDja",
        "outputId": "03963d6c-3aa2-4405-c866-84254f5f2d27"
      },
      "id": "xB7CYtLMPDja",
      "execution_count": null,
      "outputs": [
        {
          "output_type": "stream",
          "name": "stdout",
          "text": [
            "Best combination of hyperparams:\n",
            " {'pca__n_components': 12, 'randomforest__bootstrap': True, 'randomforest__max_depth': 50, 'randomforest__n_estimators': 50} \n",
            "\n",
            "Best mean_test_score score:\n",
            " 0.8244186046511628 \n",
            "\n",
            "Score by fold for best estimator:\n",
            " [0.75, 0.813953488372093, 0.9069767441860465, 0.8372093023255814, 0.813953488372093] \n",
            "\n",
            "Bootstrap:  True \n",
            "\n",
            "Best Max Depth:  50 \n",
            "\n",
            "Best n_estimators:  50 \n",
            "\n",
            "Best number of components:  12 \n",
            "\n",
            "Top 5 hyperparams combinations by mean_test_score:\n"
          ]
        },
        {
          "output_type": "display_data",
          "data": {
            "text/plain": [
              "                 mean_test_score param_randomforest__bootstrap  \\\n",
              "rank_test_score                                                  \n",
              "1                       0.824419                          True   \n",
              "1                       0.824419                          True   \n",
              "1                       0.824419                          True   \n",
              "1                       0.824419                          True   \n",
              "1                       0.824419                          True   \n",
              "\n",
              "                param_randomforest__max_depth  \\\n",
              "rank_test_score                                 \n",
              "1                                          60   \n",
              "1                                          80   \n",
              "1                                          80   \n",
              "1                                          60   \n",
              "1                                          50   \n",
              "\n",
              "                param_randomforest__n_estimators param_pca__n_components  \n",
              "rank_test_score                                                           \n",
              "1                                             60                      12  \n",
              "1                                             60                      12  \n",
              "1                                             50                      12  \n",
              "1                                             50                      12  \n",
              "1                                             50                      12  "
            ],
            "text/html": [
              "\n",
              "  <div id=\"df-ba82e06e-e412-4f1c-be9f-b1bb7190025e\">\n",
              "    <div class=\"colab-df-container\">\n",
              "      <div>\n",
              "<style scoped>\n",
              "    .dataframe tbody tr th:only-of-type {\n",
              "        vertical-align: middle;\n",
              "    }\n",
              "\n",
              "    .dataframe tbody tr th {\n",
              "        vertical-align: top;\n",
              "    }\n",
              "\n",
              "    .dataframe thead th {\n",
              "        text-align: right;\n",
              "    }\n",
              "</style>\n",
              "<table border=\"1\" class=\"dataframe\">\n",
              "  <thead>\n",
              "    <tr style=\"text-align: right;\">\n",
              "      <th></th>\n",
              "      <th>mean_test_score</th>\n",
              "      <th>param_randomforest__bootstrap</th>\n",
              "      <th>param_randomforest__max_depth</th>\n",
              "      <th>param_randomforest__n_estimators</th>\n",
              "      <th>param_pca__n_components</th>\n",
              "    </tr>\n",
              "    <tr>\n",
              "      <th>rank_test_score</th>\n",
              "      <th></th>\n",
              "      <th></th>\n",
              "      <th></th>\n",
              "      <th></th>\n",
              "      <th></th>\n",
              "    </tr>\n",
              "  </thead>\n",
              "  <tbody>\n",
              "    <tr>\n",
              "      <th>1</th>\n",
              "      <td>0.824419</td>\n",
              "      <td>True</td>\n",
              "      <td>60</td>\n",
              "      <td>60</td>\n",
              "      <td>12</td>\n",
              "    </tr>\n",
              "    <tr>\n",
              "      <th>1</th>\n",
              "      <td>0.824419</td>\n",
              "      <td>True</td>\n",
              "      <td>80</td>\n",
              "      <td>60</td>\n",
              "      <td>12</td>\n",
              "    </tr>\n",
              "    <tr>\n",
              "      <th>1</th>\n",
              "      <td>0.824419</td>\n",
              "      <td>True</td>\n",
              "      <td>80</td>\n",
              "      <td>50</td>\n",
              "      <td>12</td>\n",
              "    </tr>\n",
              "    <tr>\n",
              "      <th>1</th>\n",
              "      <td>0.824419</td>\n",
              "      <td>True</td>\n",
              "      <td>60</td>\n",
              "      <td>50</td>\n",
              "      <td>12</td>\n",
              "    </tr>\n",
              "    <tr>\n",
              "      <th>1</th>\n",
              "      <td>0.824419</td>\n",
              "      <td>True</td>\n",
              "      <td>50</td>\n",
              "      <td>50</td>\n",
              "      <td>12</td>\n",
              "    </tr>\n",
              "  </tbody>\n",
              "</table>\n",
              "</div>\n",
              "      <button class=\"colab-df-convert\" onclick=\"convertToInteractive('df-ba82e06e-e412-4f1c-be9f-b1bb7190025e')\"\n",
              "              title=\"Convert this dataframe to an interactive table.\"\n",
              "              style=\"display:none;\">\n",
              "        \n",
              "  <svg xmlns=\"http://www.w3.org/2000/svg\" height=\"24px\"viewBox=\"0 0 24 24\"\n",
              "       width=\"24px\">\n",
              "    <path d=\"M0 0h24v24H0V0z\" fill=\"none\"/>\n",
              "    <path d=\"M18.56 5.44l.94 2.06.94-2.06 2.06-.94-2.06-.94-.94-2.06-.94 2.06-2.06.94zm-11 1L8.5 8.5l.94-2.06 2.06-.94-2.06-.94L8.5 2.5l-.94 2.06-2.06.94zm10 10l.94 2.06.94-2.06 2.06-.94-2.06-.94-.94-2.06-.94 2.06-2.06.94z\"/><path d=\"M17.41 7.96l-1.37-1.37c-.4-.4-.92-.59-1.43-.59-.52 0-1.04.2-1.43.59L10.3 9.45l-7.72 7.72c-.78.78-.78 2.05 0 2.83L4 21.41c.39.39.9.59 1.41.59.51 0 1.02-.2 1.41-.59l7.78-7.78 2.81-2.81c.8-.78.8-2.07 0-2.86zM5.41 20L4 18.59l7.72-7.72 1.47 1.35L5.41 20z\"/>\n",
              "  </svg>\n",
              "      </button>\n",
              "      \n",
              "  <style>\n",
              "    .colab-df-container {\n",
              "      display:flex;\n",
              "      flex-wrap:wrap;\n",
              "      gap: 12px;\n",
              "    }\n",
              "\n",
              "    .colab-df-convert {\n",
              "      background-color: #E8F0FE;\n",
              "      border: none;\n",
              "      border-radius: 50%;\n",
              "      cursor: pointer;\n",
              "      display: none;\n",
              "      fill: #1967D2;\n",
              "      height: 32px;\n",
              "      padding: 0 0 0 0;\n",
              "      width: 32px;\n",
              "    }\n",
              "\n",
              "    .colab-df-convert:hover {\n",
              "      background-color: #E2EBFA;\n",
              "      box-shadow: 0px 1px 2px rgba(60, 64, 67, 0.3), 0px 1px 3px 1px rgba(60, 64, 67, 0.15);\n",
              "      fill: #174EA6;\n",
              "    }\n",
              "\n",
              "    [theme=dark] .colab-df-convert {\n",
              "      background-color: #3B4455;\n",
              "      fill: #D2E3FC;\n",
              "    }\n",
              "\n",
              "    [theme=dark] .colab-df-convert:hover {\n",
              "      background-color: #434B5C;\n",
              "      box-shadow: 0px 1px 3px 1px rgba(0, 0, 0, 0.15);\n",
              "      filter: drop-shadow(0px 1px 2px rgba(0, 0, 0, 0.3));\n",
              "      fill: #FFFFFF;\n",
              "    }\n",
              "  </style>\n",
              "\n",
              "      <script>\n",
              "        const buttonEl =\n",
              "          document.querySelector('#df-ba82e06e-e412-4f1c-be9f-b1bb7190025e button.colab-df-convert');\n",
              "        buttonEl.style.display =\n",
              "          google.colab.kernel.accessAllowed ? 'block' : 'none';\n",
              "\n",
              "        async function convertToInteractive(key) {\n",
              "          const element = document.querySelector('#df-ba82e06e-e412-4f1c-be9f-b1bb7190025e');\n",
              "          const dataTable =\n",
              "            await google.colab.kernel.invokeFunction('convertToInteractive',\n",
              "                                                     [key], {});\n",
              "          if (!dataTable) return;\n",
              "\n",
              "          const docLinkHtml = 'Like what you see? Visit the ' +\n",
              "            '<a target=\"_blank\" href=https://colab.research.google.com/notebooks/data_table.ipynb>data table notebook</a>'\n",
              "            + ' to learn more about interactive tables.';\n",
              "          element.innerHTML = '';\n",
              "          dataTable['output_type'] = 'display_data';\n",
              "          await google.colab.output.renderOutput(dataTable, element);\n",
              "          const docLink = document.createElement('div');\n",
              "          docLink.innerHTML = docLinkHtml;\n",
              "          element.appendChild(docLink);\n",
              "        }\n",
              "      </script>\n",
              "    </div>\n",
              "  </div>\n",
              "  "
            ]
          },
          "metadata": {}
        }
      ]
    },
    {
      "cell_type": "code",
      "source": [
        "score_model(gs_rf, X_test, y_test)"
      ],
      "metadata": {
        "colab": {
          "base_uri": "https://localhost:8080/",
          "height": 439
        },
        "id": "ByqZrsB5vc1i",
        "outputId": "e8eaf42a-1f4b-416d-b0e2-4777afd1b652"
      },
      "id": "ByqZrsB5vc1i",
      "execution_count": null,
      "outputs": [
        {
          "output_type": "stream",
          "name": "stdout",
          "text": [
            "              precision    recall  f1-score   support\n",
            "\n",
            "     Absence       0.88      0.91      0.90        33\n",
            "    Presence       0.85      0.81      0.83        21\n",
            "\n",
            "    accuracy                           0.87        54\n",
            "   macro avg       0.87      0.86      0.86        54\n",
            "weighted avg       0.87      0.87      0.87        54\n",
            "\n"
          ]
        },
        {
          "output_type": "display_data",
          "data": {
            "text/plain": [
              "<Figure size 432x288 with 2 Axes>"
            ],
            "image/png": "[encoded data removed]"
          },
          "metadata": {
            "needs_background": "light"
          }
        }
      ]
    }
  ],
  "metadata": {
    "kernelspec": {
      "display_name": "Python 3",
      "language": "python",
      "name": "python3"
    },
    "language_info": {
      "codemirror_mode": {
        "name": "ipython",
        "version": 3
      },
      "file_extension": ".py",
      "mimetype": "text/x-python",
      "name": "python",
      "nbconvert_exporter": "python",
      "pygments_lexer": "ipython3",
      "version": "3.8.8"
    },
    "colab": {
      "provenance": [],
      "collapsed_sections": []
    }
  },
  "nbformat": 4,
  "nbformat_minor": 5
}